{
 "cells": [
  {
   "cell_type": "markdown",
   "metadata": {},
   "source": [
    "# Assignment Lending Club Case Study\n",
    "## By: Edwin Mathew\n",
    "## Date : 10/08/2022"
   ]
  },
  {
   "cell_type": "markdown",
   "metadata": {},
   "source": [
    "## Business Understanding/Objectives\n",
    "\n",
    "We got a request from an online loan marketplace which specialize in Facilitating Personal Loans, business loans and financing of medical procedure. The company like to do a Exploratory Credit Risk Analytics on the lending data available to them, main objective of this task is to understand the 'risky' applicants that can cause Credit loss due to default. If the analysis can be used to identify the risky loan applicants, then such loans can be reduced therby cutting down the amount of credit loss due to defaults.\n",
    "\n",
    "Aim of this EDA is to find the driving factors behind the loan default, variables which are strong indicators will be presented. \n"
   ]
  },
  {
   "cell_type": "code",
   "execution_count": null,
   "metadata": {},
   "outputs": [],
   "source": [
    "#import the required libraries\n",
    "import numpy as np\n",
    "from numpy import percentile\n",
    "import pandas as pd\n",
    "import matplotlib.pyplot as plt\n",
    "from matplotlib.ticker import PercentFormatter\n",
    "import seaborn as sns\n",
    "import warnings\n",
    "warnings.filterwarnings('ignore')\n",
    "from datetime import datetime\n",
    "import plotly.express as px\n",
    "\n",
    "\n",
    "\n",
    "# this is to see more columns during analysis  \n",
    "pd.options.display.max_columns = None\n",
    "# this is to see more rows during analysis \n",
    "pd.options.display.max_rows = None"
   ]
  },
  {
   "cell_type": "markdown",
   "metadata": {},
   "source": [
    "#### Read csv file and store it in dataframe then use this to find the shape, data structure and observe the data structure"
   ]
  },
  {
   "cell_type": "code",
   "execution_count": null,
   "metadata": {},
   "outputs": [],
   "source": [
    "loandata = pd.read_csv(r'loan.csv')\n",
    "print(loandata.shape)\n",
    "loandata.head(5)"
   ]
  },
  {
   "cell_type": "markdown",
   "metadata": {},
   "source": [
    "data.csv contains 39717 rows and 111 coloumns.\n",
    "### Next step is Cleaning the Data\n",
    "1. Check the data type to find out the generic view of the data "
   ]
  },
  {
   "cell_type": "code",
   "execution_count": null,
   "metadata": {},
   "outputs": [],
   "source": [
    "loandata.info()"
   ]
  },
  {
   "cell_type": "markdown",
   "metadata": {},
   "source": [
    "2. Find out how many coloumns have null values and what percentage to see the data integrity"
   ]
  },
  {
   "cell_type": "code",
   "execution_count": null,
   "metadata": {},
   "outputs": [],
   "source": [
    "loandata[loandata.columns[loandata.isnull().any()]].isnull().sum() * 100 / loandata.shape[0]"
   ]
  },
  {
   "cell_type": "markdown",
   "metadata": {},
   "source": [
    "3. In the output most of the columns have more than 60% of data missing these can be dropped without causing any issues to the structure, desc column only had 32% data missing but the information has been grabbed by purpose and title columns so this can be removed as well. \n",
    "4. lets look at the rest of the columns to understand a bit further (additional 10 coloumns) and do missing data imputation \n"
   ]
  },
  {
   "cell_type": "code",
   "execution_count": null,
   "metadata": {},
   "outputs": [],
   "source": [
    "loandata = loandata[loandata.columns[((loandata.isnull().sum())/len(loandata)) < 0.3]]\n",
    "loandata[loandata.columns[loandata.isnull().any()]].isnull().sum() * 100 / loandata.shape[0]\n"
   ]
  },
  {
   "cell_type": "markdown",
   "metadata": {},
   "source": [
    "5. Now implute mode values in for the categorial data in here such as emp_title and title\n",
    "  . Both last payment date and last credit pull date needs to split into two coloumns and fill the NaNs\n",
    "  . collections_12_mths_ex_med, chargeoff_within_12_mths and tax_liens only contain 0 and Nan (this does not show \n",
    "    any crucial information. title is a full description of purpose which is cateogrised so we can drop this as         well)\n",
    "  . mode of the emp title and pub_rec_bankruptcies will be used to fill NaN's\n",
    "  . Revol_util % is removed converted to float and then used median value value to replace all the Nans here"
   ]
  },
  {
   "cell_type": "code",
   "execution_count": null,
   "metadata": {},
   "outputs": [],
   "source": [
    "loandata['pub_rec_bankruptcies'].fillna(loandata['pub_rec_bankruptcies'].mode()[0], inplace=True)\n",
    "loandata = loandata.drop(['collections_12_mths_ex_med', 'chargeoff_within_12_mths','tax_liens','title'],axis = 1)\n",
    "\n",
    "#removing % sign and converting the revol util into float then finding median to replace the missing value\n",
    "loandata['revol_util'] = loandata['revol_util'].str.replace(r'%', r'').astype('float')\n",
    "loandata['revol_util'].fillna(loandata['revol_util'].median(), inplace=True)\n",
    "\n",
    "#convert the 10+ to 10 years and less than 1 year to 0 year\n",
    "loandata['emp_length'] = loandata['emp_length'].replace(['10+ years','< 1 year'],['10 years','0 years'])\n",
    "loandata['emp_length'] = loandata['emp_length'].str.replace(r'years', r'')\n",
    "loandata['emp_length'] = loandata['emp_length'].str.replace(r'year', r'')\n",
    "\n",
    "# replace the missing value with the mode  emp length\n",
    "loandata['emp_length'].fillna(loandata['emp_length'].mode()[0], inplace=True)\n",
    "\n",
    "#split the last payment date into two seperate columns 'Month' and 'Year' then delete the existing column\n",
    "loandata['last_pymnt_Month'], loandata['last_pymnt_Year'] = loandata['last_pymnt_d'].str.split('-', 1).str\n",
    "loandata['last_pymnt_Month'].fillna(loandata['last_pymnt_Month'].mode()[0], inplace=True)\n",
    "loandata['last_pymnt_Year'].fillna(loandata['last_pymnt_Year'].mode()[0], inplace=True)\n",
    "loandata = loandata.drop(['last_pymnt_d'],axis = 1)\n",
    "\n",
    "#split the earliest credit into two seperate columns 'Month' and 'Year' then delete the existing column\n",
    "loandata['earliest_cr_Month'], loandata['earliest_cr_Year'] = loandata['earliest_cr_line'].str.split('-', 1).str\n",
    "loandata = loandata.drop(['earliest_cr_line'],axis = 1)\n",
    "\n",
    "#split the last credit pull date into two seperate columns 'Month' and 'Year' then delete the existing column\n",
    "loandata['last_credit_pull_Month'], loandata['last_credit_pull_Year'] = loandata['last_credit_pull_d'].str.split('-', 1).str\n",
    "loandata['last_credit_pull_Month'].fillna(loandata['last_credit_pull_Month'].mode()[0], inplace=True)\n",
    "loandata['last_credit_pull_Year'].fillna(loandata['last_credit_pull_Year'].mode()[0], inplace=True)\n",
    "loandata = loandata.drop(['last_credit_pull_d'],axis = 1)\n",
    "\n",
    "#since there is no missing data in these column we can use the strptime function take out Year and Month\n",
    "\n",
    "loandata['issue_Year'] = pd.to_datetime(loandata['issue_d'].apply(lambda x: datetime.strptime(x,'%b-%y'))).dt.strftime('%Y')\n",
    "loandata['issue_Month'] = pd.to_datetime(loandata['issue_d'].apply(lambda x: datetime.strptime(x,'%b-%y'))).dt.strftime('%b')\n",
    "loandata = loandata.drop(['issue_d'],axis = 1)\n",
    "\n",
    "\n",
    "# Removing XX from from the end Zipcode since it does not hold any value\n",
    "loandata['zip_code'] = loandata['zip_code'].str.replace(r'xx', r'').astype('str')\n",
    "\n",
    "\n",
    "#Removing % from int rate and converting into a float number\n",
    "loandata['int_rate'] = loandata['int_rate'].str.replace(r'%', r'').astype('float')\n",
    "\n",
    "#find duplicates of ID and member ID columns to see if there is any trend or difference\n",
    "print(len(loandata['id'])-len(loandata['id'].drop_duplicates()))\n",
    "print(len(loandata['member_id'])-len(loandata['member_id'].drop_duplicates()))\n",
    "# since there are no trend or duplication found these rows can be removed\n",
    "\n",
    "loandata = loandata.drop(['id', 'member_id'],axis = 1)\n",
    "\n",
    "#Although Emp Title is important there is no standardisation across the data\n",
    "loandata = loandata.drop(['emp_title'],axis = 1)\n"
   ]
  },
  {
   "cell_type": "code",
   "execution_count": null,
   "metadata": {},
   "outputs": [],
   "source": [
    "# the outliers of the annual income needs to be removed since this can throw off the data\n",
    "# calculate interquartile range\n",
    "q25, q75 = percentile(loandata['annual_inc'], 25), percentile(loandata['annual_inc'], 75)\n",
    "iqr = q75 - q25\n",
    "print('Percentiles: 25th=%.3f, 75th=%.3f, IQR=%.3f' % (q25, q75, iqr))\n",
    "#find out the outlier cutoff\n",
    "cutoff = iqr * 1.5\n",
    "lowerc, upperc = q25 - cutoff, q75 + cutoff\n",
    "print (cutoff,lowerc,upperc)\n",
    "\n",
    "# identify and remove outliers\n",
    "loandata_up = loandata.loc[(loandata['annual_inc'] >= lowerc) & (loandata['annual_inc'] <= upperc)]\n"
   ]
  },
  {
   "cell_type": "code",
   "execution_count": null,
   "metadata": {},
   "outputs": [],
   "source": [
    "# Next step is to Bin quantitive data for categorical analysis. First to be binned will be intrest rate.\n",
    "print(loandata_up['int_rate'].max())\n",
    "print(loandata_up['int_rate'].min())\n",
    "#since the minimum data is at 5.42 and maximum is at 24.4 the bins will run from 5-25\n",
    "loandata_up['int_bin'] = pd.cut(loandata_up['int_rate'], bins = [5.00,10.00,15.00,20.00,25.00], labels = [\"5%-10%\",\"11%-15%\",\"16%-20%\",\"21%-25%\"])"
   ]
  },
  {
   "cell_type": "code",
   "execution_count": null,
   "metadata": {},
   "outputs": [],
   "source": [
    "# Next is creating bin for the loan amount, from this we can see the loan run from 500 - 35000\n",
    "print(loandata_up['loan_amnt'].describe())\n",
    "binsloan= [0,5000,10000,15000,20000,25000,30000,35000] \n",
    "labelsloan = [\"0-5k\",\"5-10k\",\"10-15k\",\"15-20k\",\"20-25k\",\"25-30k\",\"30-35k\"]\n",
    "loandata_up['loan_amnt_bin']=pd.cut(loandata_up['loan_amnt'],bins =binsloan, labels=labelsloan)"
   ]
  },
  {
   "cell_type": "code",
   "execution_count": null,
   "metadata": {},
   "outputs": [],
   "source": [
    "# Next is creating bin for the annual income, from this we can see the loan run from 4000 - 145008\n",
    "loandata_up['annual_inc'].describe()"
   ]
  },
  {
   "cell_type": "code",
   "execution_count": null,
   "metadata": {},
   "outputs": [],
   "source": [
    "loandata_up['annual_incbin'] = pd.cut(loandata_up['annual_inc'], bins= [0, 10000, 20000, 40000, 60000,80000,100000, 120000,150000],\n",
    "                                      labels=['0-10K','10-20K','20-40K','40-60K','60-80K','80-100K','100-120K','120-150K'])\n",
    "\n",
    "loandata_up['annual_incbin'].value_counts()"
   ]
  },
  {
   "cell_type": "markdown",
   "metadata": {},
   "source": [
    "## UniVariant Analysis\n",
    "### lets start with analysing whats the percentage/count of loan status currently."
   ]
  },
  {
   "cell_type": "code",
   "execution_count": null,
   "metadata": {},
   "outputs": [],
   "source": [
    "\n",
    "counts = loandata_up['loan_status'].value_counts().rename_axis('loan_status').reset_index(name='count')\n",
    "sns.set(rc={'figure.figsize':(12,9)})\n",
    "plt.title('Loan Status', fontsize=20)\n",
    "total = float(len(loandata_up))\n",
    "ax = sns.barplot(x='loan_status', y='count', data=counts)\n",
    "for p in ax.patches:\n",
    "    percentage = '{:.1f}%'.format(100 * p.get_height()/total)\n",
    "    x = p.get_x() + p.get_width()\n",
    "    y = p.get_height()\n",
    "    ax.annotate(percentage, (x, y),ha='center')\n",
    "\n",
    "plt.show()"
   ]
  },
  {
   "cell_type": "markdown",
   "metadata": {},
   "source": [
    "### It shows that 14.3% of the Loan status is Charged off"
   ]
  },
  {
   "cell_type": "code",
   "execution_count": null,
   "metadata": {},
   "outputs": [],
   "source": [
    "fig, (ax1, ax2) = plt.subplots(ncols=2, figsize=(12, 4))\n",
    "for ax, multiple in zip((ax1, ax2), ['layer', 'fill']):\n",
    "    sns.histplot(data=loandata_up, x='int_bin', hue='loan_status', binwidth=10, stat='percent', multiple=multiple, ax=ax)\n",
    "    ax.set_title(f\"multiple='{multiple}'\")\n",
    "\n",
    "for bar_group, color in zip(ax.containers, ['black', 'white']):\n",
    "    ax.bar_label(bar_group, label_type='center', color=color,\n",
    "                 labels=[f'{bar.get_height() * 100:.1f} %' if bar.get_height() > 0 else '' for bar in bar_group])\n",
    "ax.yaxis.set_major_formatter(PercentFormatter(1))\n",
    "plt.tight_layout()\n",
    "plt.show()\n",
    "\n"
   ]
  },
  {
   "cell_type": "code",
   "execution_count": null,
   "metadata": {},
   "outputs": [],
   "source": [
    "fig, (ax1, ax2) = plt.subplots(ncols=2, figsize=(12, 4))\n",
    "for ax, multiple in zip((ax1, ax2), ['layer', 'fill']):\n",
    "    sns.histplot(data=loandata_up, x='loan_amnt_bin', hue='loan_status', binwidth=10, stat='percent', multiple=multiple, ax=ax)\n",
    "    ax.set_title(f\"multiple='{multiple}'\")\n",
    "\n",
    "for bar_group, color in zip(ax.containers, ['black', 'white']):\n",
    "    ax.bar_label(bar_group, label_type='center', color=color,\n",
    "                 labels=[f'{bar.get_height() * 100:.1f} %' if bar.get_height() > 0 else '' for bar in bar_group])\n",
    "ax.yaxis.set_major_formatter(PercentFormatter(1))\n",
    "plt.tight_layout()\n",
    "plt.show()"
   ]
  },
  {
   "cell_type": "code",
   "execution_count": null,
   "metadata": {},
   "outputs": [],
   "source": [
    "\n",
    "fig, (ax1, ax2) = plt.subplots(ncols=2, figsize=(15, 4))\n",
    "for ax, multiple in zip((ax1, ax2), ['layer', 'fill']):\n",
    "    sns.histplot(data=loandata_up, x='annual_incbin', hue='loan_status', binwidth=10, stat='percent', multiple=multiple, ax=ax)\n",
    "    ax.set_title(f\"multiple='{multiple}'\")\n",
    "\n",
    "for bar_group, color in zip(ax.containers, ['black', 'white']):\n",
    "    ax.bar_label(bar_group, label_type='center', color=color,\n",
    "                 labels=[f'{bar.get_height() * 100:.1f} %' if bar.get_height() > 0 else '' for bar in bar_group])\n",
    "ax.yaxis.set_major_formatter(PercentFormatter(1))\n",
    "plt.tight_layout()\n",
    "plt.show()"
   ]
  },
  {
   "cell_type": "code",
   "execution_count": null,
   "metadata": {},
   "outputs": [],
   "source": [
    "fig, (ax1, ax2) = plt.subplots(ncols=2, figsize=(12, 4))\n",
    "for ax, multiple in zip((ax1, ax2), ['layer', 'fill']):\n",
    "    sns.histplot(data=loandata_up, x='grade', hue='loan_status', binwidth=10, stat='percent', multiple=multiple, ax=ax)\n",
    "    ax.set_title(f\"multiple='{multiple}'\")\n",
    "\n",
    "for bar_group, color in zip(ax.containers, ['black', 'white']):\n",
    "    ax.bar_label(bar_group, label_type='center', color=color,\n",
    "                 labels=[f'{bar.get_height() * 100:.1f} %' if bar.get_height() > 0 else '' for bar in bar_group])\n",
    "ax.yaxis.set_major_formatter(PercentFormatter(1))\n",
    "plt.tight_layout()\n",
    "plt.show()"
   ]
  },
  {
   "cell_type": "code",
   "execution_count": null,
   "metadata": {},
   "outputs": [],
   "source": [
    "\n",
    "fig, (ax1, ax2) = plt.subplots(ncols=2, figsize=(15, 4))\n",
    "for ax, multiple in zip((ax1, ax2), ['layer', 'fill']):\n",
    "    sns.histplot(data=loandata_up, x='emp_length', hue='loan_status', binwidth=10, stat='percent', multiple=multiple, ax=ax)\n",
    "    ax.set_title(f\"multiple='{multiple}'\")\n",
    "\n",
    "for bar_group, color in zip(ax.containers, ['black', 'white']):\n",
    "    ax.bar_label(bar_group, label_type='center', color=color,\n",
    "                 labels=[f'{bar.get_height() * 100:.1f} %' if bar.get_height() > 0 else '' for bar in bar_group])\n",
    "ax.yaxis.set_major_formatter(PercentFormatter(1))\n",
    "plt.tight_layout()\n",
    "plt.show()"
   ]
  },
  {
   "cell_type": "code",
   "execution_count": null,
   "metadata": {},
   "outputs": [],
   "source": [
    "\n",
    "fig, (ax1, ax2) = plt.subplots(ncols=2, figsize=(12, 4))\n",
    "for ax, multiple in zip((ax1, ax2), ['layer', 'fill']):\n",
    "    sns.histplot(data=loandata_up, x='home_ownership', hue='loan_status', binwidth=10, stat='percent', multiple=multiple, ax=ax)\n",
    "    ax.set_title(f\"multiple='{multiple}'\")\n",
    "\n",
    "for bar_group, color in zip(ax.containers, ['black', 'white']):\n",
    "    ax.bar_label(bar_group, label_type='center', color=color,\n",
    "                 labels=[f'{bar.get_height() * 100:.1f} %' if bar.get_height() > 0 else '' for bar in bar_group])\n",
    "ax.yaxis.set_major_formatter(PercentFormatter(1))\n",
    "plt.tight_layout()\n",
    "plt.show()"
   ]
  },
  {
   "cell_type": "code",
   "execution_count": null,
   "metadata": {},
   "outputs": [],
   "source": [
    "fig, (ax1, ax2) = plt.subplots(ncols=2, figsize=(35, 12))\n",
    "for ax, multiple in zip((ax1, ax2), ['layer', 'fill']):\n",
    "    sns.histplot(data=loandata_up, x='purpose', hue='loan_status', binwidth=10, stat='percent', multiple=multiple, ax=ax)\n",
    "    ax.set_title(f\"multiple='{multiple}'\")\n",
    "\n",
    "for bar_group, color in zip(ax.containers, ['black', 'white']):\n",
    "    ax.bar_label(bar_group, label_type='center', color=color,\n",
    "                 labels=[f'{bar.get_height() * 100:.1f} %' if bar.get_height() > 0 else '' for bar in bar_group])\n",
    "ax.yaxis.set_major_formatter(PercentFormatter(1))\n",
    "ax1.title.set_text('Purpose Percentage')\n",
    "ax2.title.set_text('Purpose and Loan Status relationship')\n",
    "plt.tight_layout()\n",
    "plt.show()"
   ]
  },
  {
   "cell_type": "code",
   "execution_count": null,
   "metadata": {},
   "outputs": [],
   "source": [
    "counts = loandata_up['addr_state'].value_counts().rename_axis('addr_state').reset_index(name='count')\n",
    "sns.set(rc={'figure.figsize':(30,10)})\n",
    "plt.title('State wise borrowing', fontsize=20)\n",
    "total = float(len(loandata_up))\n",
    "ax = sns.barplot(x='addr_state', y='count', data=counts)\n",
    "for p in ax.patches:\n",
    "    percentage = '{:.1f}%'.format(100 * p.get_height()/total)\n",
    "    x = p.get_x() + p.get_width()\n",
    "    y = p.get_height()\n",
    "    ax.annotate(percentage, (x, y),ha='center')\n",
    "\n",
    "plt.show()"
   ]
  },
  {
   "cell_type": "code",
   "execution_count": null,
   "metadata": {},
   "outputs": [],
   "source": [
    "#df_plot = loandata_up.groupby(['int_bin', 'loan_status']).size().reset_index().pivot(columns='int_bin', index='loan_status', values=0)\n",
    "\n",
    "#df_plot.plot(kind='bar', stacked=True)\n",
    "\n",
    "\n",
    "sns.displot(loandata_up, x='int_bin', hue='loan_status', multiple='stack')"
   ]
  },
  {
   "cell_type": "code",
   "execution_count": null,
   "metadata": {},
   "outputs": [],
   "source": [
    "fig, (ax1, ax2) = plt.subplots(ncols=2, figsize=(12, 4))\n",
    "for ax, multiple in zip((ax1, ax2), ['layer', 'fill']):\n",
    "    sns.histplot(data=loandata_up, x='int_bin', hue='loan_status', binwidth=10, stat='percent', multiple=multiple, ax=ax)\n",
    "    ax.set_title(f\"multiple='{multiple}'\")\n",
    "\n",
    "for bar_group, color in zip(ax.containers, ['black', 'white']):\n",
    "    ax.bar_label(bar_group, label_type='center', color=color,\n",
    "                 labels=[f'{bar.get_height() * 100:.1f} %' if bar.get_height() > 0 else '' for bar in bar_group])\n",
    "ax.yaxis.set_major_formatter(PercentFormatter(1))\n",
    "plt.tight_layout()\n",
    "plt.show()"
   ]
  },
  {
   "cell_type": "code",
   "execution_count": null,
   "metadata": {},
   "outputs": [],
   "source": [
    "\n",
    "\n"
   ]
  },
  {
   "cell_type": "code",
   "execution_count": null,
   "metadata": {},
   "outputs": [],
   "source": []
  },
  {
   "cell_type": "code",
   "execution_count": null,
   "metadata": {},
   "outputs": [],
   "source": []
  }
 ],
 "metadata": {
  "kernelspec": {
   "display_name": "Python 3.8.13 ('py38_default')",
   "language": "python",
   "name": "python3"
  },
  "language_info": {
   "codemirror_mode": {
    "name": "ipython",
    "version": 3
   },
   "file_extension": ".py",
   "mimetype": "text/x-python",
   "name": "python",
   "nbconvert_exporter": "python",
   "pygments_lexer": "ipython3",
   "version": "3.8.13"
  },
  "vscode": {
   "interpreter": {
    "hash": "0b89d13efa15026bec8ac80f9cabf9db8b4aa027bf15218d19e9326d2a712ef0"
   }
  }
 },
 "nbformat": 4,
 "nbformat_minor": 4
}
