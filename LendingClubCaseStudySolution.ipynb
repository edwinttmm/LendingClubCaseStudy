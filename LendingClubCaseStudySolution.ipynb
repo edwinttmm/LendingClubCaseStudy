{
 "cells": [
  {
   "cell_type": "markdown",
   "id": "ac5b0cad",
   "metadata": {},
   "source": [
    "# Study Group - Solution for Lending Club Case Study"
   ]
  },
  {
   "cell_type": "markdown",
   "id": "b1591eed",
   "metadata": {},
   "source": [
    "### By: Edwin Mathew & Ishkhan Marzook"
   ]
  },
  {
   "cell_type": "markdown",
   "id": "13719a40",
   "metadata": {},
   "source": [
    "### Submission Date : 10th August 2022"
   ]
  },
  {
   "cell_type": "markdown",
   "id": "24a73e24",
   "metadata": {},
   "source": [
    "## <ins>Business Understanding/Objectives</ins>"
   ]
  },
  {
   "cell_type": "markdown",
   "id": "24bebc0b",
   "metadata": {},
   "source": [
    "We got a request from an online loan marketplace specializing in Facilitating Personal Loans, business loans, and financing of medical procedures and financing of medical procedures. The company likes to do an Exploratory Credit Risk Analytics on the lending data available to them, the main objective of this task is to understand the 'risky' applicants that can cause Credit loss due to default. If the analysis can be used to identify the risky loan applicants, then such loans can be reduced thereby cutting down the amount of credit loss due to defaults.\n",
    "\n",
    "__The aim of this EDA(Exploratory Data Analysis) is to find the driving factors behind the loan default, variables that are strong indicators will be presented__"
   ]
  },
  {
   "cell_type": "markdown",
   "id": "7ea92894",
   "metadata": {},
   "source": [
    "## <ins>Solution</ins>"
   ]
  },
  {
   "cell_type": "markdown",
   "id": "59c48e21",
   "metadata": {},
   "source": [
    "__In order to achieve the goal of this case study, following steps will be followed__"
   ]
  },
  {
   "cell_type": "markdown",
   "id": "2186adc7",
   "metadata": {},
   "source": [
    "1\\. Loading the raw data from given loan data set file __loan.csv__"
   ]
  },
  {
   "cell_type": "markdown",
   "id": "d87780aa",
   "metadata": {},
   "source": [
    "2\\. Perfoming __Data Handling and Cleaning__ on loan data set"
   ]
  },
  {
   "cell_type": "markdown",
   "id": "2463932b",
   "metadata": {},
   "source": [
    "3\\. Performing __Sanity Checks and Outlier Analysis__ on loan data set"
   ]
  },
  {
   "cell_type": "markdown",
   "id": "bc8c3361",
   "metadata": {},
   "source": [
    "4\\. Performing __Univariate Analysis__ on loan data set"
   ]
  },
  {
   "cell_type": "markdown",
   "id": "0a1c0179",
   "metadata": {},
   "source": [
    "5\\. Performing __Bivariate Analysis__ on loan data set"
   ]
  },
  {
   "cell_type": "markdown",
   "id": "e88a0575",
   "metadata": {},
   "source": [
    "#### 1. Loading the raw data from given loan data set file loan.csv"
   ]
  },
  {
   "cell_type": "code",
   "execution_count": 1,
   "id": "0768bcb0",
   "metadata": {},
   "outputs": [],
   "source": [
    "# import the required libraries\n",
    "import numpy as np\n",
    "from numpy import percentile\n",
    "import pandas as pd\n",
    "import matplotlib.pyplot as plt\n",
    "from matplotlib.ticker import PercentFormatter\n",
    "import seaborn as sns\n",
    "import warnings\n",
    "warnings.filterwarnings('ignore')\n",
    "from datetime import datetime\n",
    "import plotly.express as px"
   ]
  },
  {
   "cell_type": "code",
   "execution_count": 2,
   "id": "cba81d8d",
   "metadata": {},
   "outputs": [],
   "source": [
    "# this is to see more columns during analysis  \n",
    "pd.options.display.max_columns = None\n",
    "# this is to see more rows during analysis \n",
    "pd.options.display.max_rows = None"
   ]
  },
  {
   "cell_type": "code",
   "execution_count": 3,
   "id": "51063275",
   "metadata": {},
   "outputs": [],
   "source": [
    "# read csv file and store it in dataframe\n",
    "loan_data = pd.read_csv(r'loan.csv', header=0)"
   ]
  },
  {
   "cell_type": "code",
   "execution_count": 4,
   "id": "c36de11e",
   "metadata": {},
   "outputs": [
    {
     "data": {
      "text/plain": [
       "(39717, 111)"
      ]
     },
     "execution_count": 4,
     "metadata": {},
     "output_type": "execute_result"
    }
   ],
   "source": [
    "# analyze the shape of the data\n",
    "loan_data.shape"
   ]
  },
  {
   "cell_type": "markdown",
   "id": "747f1a1b",
   "metadata": {},
   "source": [
    "According to the above analysis we can conclude there are __39717 rows__ and __111 columns__ in the loan data set"
   ]
  },
  {
   "cell_type": "code",
   "execution_count": 5,
   "id": "f573902b",
   "metadata": {},
   "outputs": [
    {
     "data": {
      "text/html": [
       "<div>\n",
       "<style scoped>\n",
       "    .dataframe tbody tr th:only-of-type {\n",
       "        vertical-align: middle;\n",
       "    }\n",
       "\n",
       "    .dataframe tbody tr th {\n",
       "        vertical-align: top;\n",
       "    }\n",
       "\n",
       "    .dataframe thead th {\n",
       "        text-align: right;\n",
       "    }\n",
       "</style>\n",
       "<table border=\"1\" class=\"dataframe\">\n",
       "  <thead>\n",
       "    <tr style=\"text-align: right;\">\n",
       "      <th></th>\n",
       "      <th>id</th>\n",
       "      <th>member_id</th>\n",
       "      <th>loan_amnt</th>\n",
       "      <th>funded_amnt</th>\n",
       "      <th>funded_amnt_inv</th>\n",
       "      <th>term</th>\n",
       "      <th>int_rate</th>\n",
       "      <th>installment</th>\n",
       "      <th>grade</th>\n",
       "      <th>sub_grade</th>\n",
       "      <th>emp_title</th>\n",
       "      <th>emp_length</th>\n",
       "      <th>home_ownership</th>\n",
       "      <th>annual_inc</th>\n",
       "      <th>verification_status</th>\n",
       "      <th>issue_d</th>\n",
       "      <th>loan_status</th>\n",
       "      <th>pymnt_plan</th>\n",
       "      <th>url</th>\n",
       "      <th>desc</th>\n",
       "      <th>purpose</th>\n",
       "      <th>title</th>\n",
       "      <th>zip_code</th>\n",
       "      <th>addr_state</th>\n",
       "      <th>dti</th>\n",
       "      <th>delinq_2yrs</th>\n",
       "      <th>earliest_cr_line</th>\n",
       "      <th>inq_last_6mths</th>\n",
       "      <th>mths_since_last_delinq</th>\n",
       "      <th>mths_since_last_record</th>\n",
       "      <th>open_acc</th>\n",
       "      <th>pub_rec</th>\n",
       "      <th>revol_bal</th>\n",
       "      <th>revol_util</th>\n",
       "      <th>total_acc</th>\n",
       "      <th>initial_list_status</th>\n",
       "      <th>out_prncp</th>\n",
       "      <th>out_prncp_inv</th>\n",
       "      <th>total_pymnt</th>\n",
       "      <th>total_pymnt_inv</th>\n",
       "      <th>total_rec_prncp</th>\n",
       "      <th>total_rec_int</th>\n",
       "      <th>total_rec_late_fee</th>\n",
       "      <th>recoveries</th>\n",
       "      <th>collection_recovery_fee</th>\n",
       "      <th>last_pymnt_d</th>\n",
       "      <th>last_pymnt_amnt</th>\n",
       "      <th>next_pymnt_d</th>\n",
       "      <th>last_credit_pull_d</th>\n",
       "      <th>collections_12_mths_ex_med</th>\n",
       "      <th>mths_since_last_major_derog</th>\n",
       "      <th>policy_code</th>\n",
       "      <th>application_type</th>\n",
       "      <th>annual_inc_joint</th>\n",
       "      <th>dti_joint</th>\n",
       "      <th>verification_status_joint</th>\n",
       "      <th>acc_now_delinq</th>\n",
       "      <th>tot_coll_amt</th>\n",
       "      <th>tot_cur_bal</th>\n",
       "      <th>open_acc_6m</th>\n",
       "      <th>open_il_6m</th>\n",
       "      <th>open_il_12m</th>\n",
       "      <th>open_il_24m</th>\n",
       "      <th>mths_since_rcnt_il</th>\n",
       "      <th>total_bal_il</th>\n",
       "      <th>il_util</th>\n",
       "      <th>open_rv_12m</th>\n",
       "      <th>open_rv_24m</th>\n",
       "      <th>max_bal_bc</th>\n",
       "      <th>all_util</th>\n",
       "      <th>total_rev_hi_lim</th>\n",
       "      <th>inq_fi</th>\n",
       "      <th>total_cu_tl</th>\n",
       "      <th>inq_last_12m</th>\n",
       "      <th>acc_open_past_24mths</th>\n",
       "      <th>avg_cur_bal</th>\n",
       "      <th>bc_open_to_buy</th>\n",
       "      <th>bc_util</th>\n",
       "      <th>chargeoff_within_12_mths</th>\n",
       "      <th>delinq_amnt</th>\n",
       "      <th>mo_sin_old_il_acct</th>\n",
       "      <th>mo_sin_old_rev_tl_op</th>\n",
       "      <th>mo_sin_rcnt_rev_tl_op</th>\n",
       "      <th>mo_sin_rcnt_tl</th>\n",
       "      <th>mort_acc</th>\n",
       "      <th>mths_since_recent_bc</th>\n",
       "      <th>mths_since_recent_bc_dlq</th>\n",
       "      <th>mths_since_recent_inq</th>\n",
       "      <th>mths_since_recent_revol_delinq</th>\n",
       "      <th>num_accts_ever_120_pd</th>\n",
       "      <th>num_actv_bc_tl</th>\n",
       "      <th>num_actv_rev_tl</th>\n",
       "      <th>num_bc_sats</th>\n",
       "      <th>num_bc_tl</th>\n",
       "      <th>num_il_tl</th>\n",
       "      <th>num_op_rev_tl</th>\n",
       "      <th>num_rev_accts</th>\n",
       "      <th>num_rev_tl_bal_gt_0</th>\n",
       "      <th>num_sats</th>\n",
       "      <th>num_tl_120dpd_2m</th>\n",
       "      <th>num_tl_30dpd</th>\n",
       "      <th>num_tl_90g_dpd_24m</th>\n",
       "      <th>num_tl_op_past_12m</th>\n",
       "      <th>pct_tl_nvr_dlq</th>\n",
       "      <th>percent_bc_gt_75</th>\n",
       "      <th>pub_rec_bankruptcies</th>\n",
       "      <th>tax_liens</th>\n",
       "      <th>tot_hi_cred_lim</th>\n",
       "      <th>total_bal_ex_mort</th>\n",
       "      <th>total_bc_limit</th>\n",
       "      <th>total_il_high_credit_limit</th>\n",
       "    </tr>\n",
       "  </thead>\n",
       "  <tbody>\n",
       "    <tr>\n",
       "      <th>0</th>\n",
       "      <td>1077501</td>\n",
       "      <td>1296599</td>\n",
       "      <td>5000</td>\n",
       "      <td>5000</td>\n",
       "      <td>4975.0</td>\n",
       "      <td>36 months</td>\n",
       "      <td>10.65%</td>\n",
       "      <td>162.87</td>\n",
       "      <td>B</td>\n",
       "      <td>B2</td>\n",
       "      <td>NaN</td>\n",
       "      <td>10+ years</td>\n",
       "      <td>RENT</td>\n",
       "      <td>24000.0</td>\n",
       "      <td>Verified</td>\n",
       "      <td>Dec-11</td>\n",
       "      <td>Fully Paid</td>\n",
       "      <td>n</td>\n",
       "      <td>https://lendingclub.com/browse/loanDetail.acti...</td>\n",
       "      <td>Borrower added on 12/22/11 &gt; I need to upgra...</td>\n",
       "      <td>credit_card</td>\n",
       "      <td>Computer</td>\n",
       "      <td>860xx</td>\n",
       "      <td>AZ</td>\n",
       "      <td>27.65</td>\n",
       "      <td>0</td>\n",
       "      <td>Jan-85</td>\n",
       "      <td>1</td>\n",
       "      <td>NaN</td>\n",
       "      <td>NaN</td>\n",
       "      <td>3</td>\n",
       "      <td>0</td>\n",
       "      <td>13648</td>\n",
       "      <td>83.70%</td>\n",
       "      <td>9</td>\n",
       "      <td>f</td>\n",
       "      <td>0.00</td>\n",
       "      <td>0.00</td>\n",
       "      <td>5863.155187</td>\n",
       "      <td>5833.84</td>\n",
       "      <td>5000.00</td>\n",
       "      <td>863.16</td>\n",
       "      <td>0.00</td>\n",
       "      <td>0.00</td>\n",
       "      <td>0.00</td>\n",
       "      <td>Jan-15</td>\n",
       "      <td>171.62</td>\n",
       "      <td>NaN</td>\n",
       "      <td>May-16</td>\n",
       "      <td>0.0</td>\n",
       "      <td>NaN</td>\n",
       "      <td>1</td>\n",
       "      <td>INDIVIDUAL</td>\n",
       "      <td>NaN</td>\n",
       "      <td>NaN</td>\n",
       "      <td>NaN</td>\n",
       "      <td>0</td>\n",
       "      <td>NaN</td>\n",
       "      <td>NaN</td>\n",
       "      <td>NaN</td>\n",
       "      <td>NaN</td>\n",
       "      <td>NaN</td>\n",
       "      <td>NaN</td>\n",
       "      <td>NaN</td>\n",
       "      <td>NaN</td>\n",
       "      <td>NaN</td>\n",
       "      <td>NaN</td>\n",
       "      <td>NaN</td>\n",
       "      <td>NaN</td>\n",
       "      <td>NaN</td>\n",
       "      <td>NaN</td>\n",
       "      <td>NaN</td>\n",
       "      <td>NaN</td>\n",
       "      <td>NaN</td>\n",
       "      <td>NaN</td>\n",
       "      <td>NaN</td>\n",
       "      <td>NaN</td>\n",
       "      <td>NaN</td>\n",
       "      <td>0.0</td>\n",
       "      <td>0</td>\n",
       "      <td>NaN</td>\n",
       "      <td>NaN</td>\n",
       "      <td>NaN</td>\n",
       "      <td>NaN</td>\n",
       "      <td>NaN</td>\n",
       "      <td>NaN</td>\n",
       "      <td>NaN</td>\n",
       "      <td>NaN</td>\n",
       "      <td>NaN</td>\n",
       "      <td>NaN</td>\n",
       "      <td>NaN</td>\n",
       "      <td>NaN</td>\n",
       "      <td>NaN</td>\n",
       "      <td>NaN</td>\n",
       "      <td>NaN</td>\n",
       "      <td>NaN</td>\n",
       "      <td>NaN</td>\n",
       "      <td>NaN</td>\n",
       "      <td>NaN</td>\n",
       "      <td>NaN</td>\n",
       "      <td>NaN</td>\n",
       "      <td>NaN</td>\n",
       "      <td>NaN</td>\n",
       "      <td>NaN</td>\n",
       "      <td>NaN</td>\n",
       "      <td>0.0</td>\n",
       "      <td>0.0</td>\n",
       "      <td>NaN</td>\n",
       "      <td>NaN</td>\n",
       "      <td>NaN</td>\n",
       "      <td>NaN</td>\n",
       "    </tr>\n",
       "    <tr>\n",
       "      <th>1</th>\n",
       "      <td>1077430</td>\n",
       "      <td>1314167</td>\n",
       "      <td>2500</td>\n",
       "      <td>2500</td>\n",
       "      <td>2500.0</td>\n",
       "      <td>60 months</td>\n",
       "      <td>15.27%</td>\n",
       "      <td>59.83</td>\n",
       "      <td>C</td>\n",
       "      <td>C4</td>\n",
       "      <td>Ryder</td>\n",
       "      <td>&lt; 1 year</td>\n",
       "      <td>RENT</td>\n",
       "      <td>30000.0</td>\n",
       "      <td>Source Verified</td>\n",
       "      <td>Dec-11</td>\n",
       "      <td>Charged Off</td>\n",
       "      <td>n</td>\n",
       "      <td>https://lendingclub.com/browse/loanDetail.acti...</td>\n",
       "      <td>Borrower added on 12/22/11 &gt; I plan to use t...</td>\n",
       "      <td>car</td>\n",
       "      <td>bike</td>\n",
       "      <td>309xx</td>\n",
       "      <td>GA</td>\n",
       "      <td>1.00</td>\n",
       "      <td>0</td>\n",
       "      <td>Apr-99</td>\n",
       "      <td>5</td>\n",
       "      <td>NaN</td>\n",
       "      <td>NaN</td>\n",
       "      <td>3</td>\n",
       "      <td>0</td>\n",
       "      <td>1687</td>\n",
       "      <td>9.40%</td>\n",
       "      <td>4</td>\n",
       "      <td>f</td>\n",
       "      <td>0.00</td>\n",
       "      <td>0.00</td>\n",
       "      <td>1008.710000</td>\n",
       "      <td>1008.71</td>\n",
       "      <td>456.46</td>\n",
       "      <td>435.17</td>\n",
       "      <td>0.00</td>\n",
       "      <td>117.08</td>\n",
       "      <td>1.11</td>\n",
       "      <td>Apr-13</td>\n",
       "      <td>119.66</td>\n",
       "      <td>NaN</td>\n",
       "      <td>Sep-13</td>\n",
       "      <td>0.0</td>\n",
       "      <td>NaN</td>\n",
       "      <td>1</td>\n",
       "      <td>INDIVIDUAL</td>\n",
       "      <td>NaN</td>\n",
       "      <td>NaN</td>\n",
       "      <td>NaN</td>\n",
       "      <td>0</td>\n",
       "      <td>NaN</td>\n",
       "      <td>NaN</td>\n",
       "      <td>NaN</td>\n",
       "      <td>NaN</td>\n",
       "      <td>NaN</td>\n",
       "      <td>NaN</td>\n",
       "      <td>NaN</td>\n",
       "      <td>NaN</td>\n",
       "      <td>NaN</td>\n",
       "      <td>NaN</td>\n",
       "      <td>NaN</td>\n",
       "      <td>NaN</td>\n",
       "      <td>NaN</td>\n",
       "      <td>NaN</td>\n",
       "      <td>NaN</td>\n",
       "      <td>NaN</td>\n",
       "      <td>NaN</td>\n",
       "      <td>NaN</td>\n",
       "      <td>NaN</td>\n",
       "      <td>NaN</td>\n",
       "      <td>NaN</td>\n",
       "      <td>0.0</td>\n",
       "      <td>0</td>\n",
       "      <td>NaN</td>\n",
       "      <td>NaN</td>\n",
       "      <td>NaN</td>\n",
       "      <td>NaN</td>\n",
       "      <td>NaN</td>\n",
       "      <td>NaN</td>\n",
       "      <td>NaN</td>\n",
       "      <td>NaN</td>\n",
       "      <td>NaN</td>\n",
       "      <td>NaN</td>\n",
       "      <td>NaN</td>\n",
       "      <td>NaN</td>\n",
       "      <td>NaN</td>\n",
       "      <td>NaN</td>\n",
       "      <td>NaN</td>\n",
       "      <td>NaN</td>\n",
       "      <td>NaN</td>\n",
       "      <td>NaN</td>\n",
       "      <td>NaN</td>\n",
       "      <td>NaN</td>\n",
       "      <td>NaN</td>\n",
       "      <td>NaN</td>\n",
       "      <td>NaN</td>\n",
       "      <td>NaN</td>\n",
       "      <td>NaN</td>\n",
       "      <td>0.0</td>\n",
       "      <td>0.0</td>\n",
       "      <td>NaN</td>\n",
       "      <td>NaN</td>\n",
       "      <td>NaN</td>\n",
       "      <td>NaN</td>\n",
       "    </tr>\n",
       "    <tr>\n",
       "      <th>2</th>\n",
       "      <td>1077175</td>\n",
       "      <td>1313524</td>\n",
       "      <td>2400</td>\n",
       "      <td>2400</td>\n",
       "      <td>2400.0</td>\n",
       "      <td>36 months</td>\n",
       "      <td>15.96%</td>\n",
       "      <td>84.33</td>\n",
       "      <td>C</td>\n",
       "      <td>C5</td>\n",
       "      <td>NaN</td>\n",
       "      <td>10+ years</td>\n",
       "      <td>RENT</td>\n",
       "      <td>12252.0</td>\n",
       "      <td>Not Verified</td>\n",
       "      <td>Dec-11</td>\n",
       "      <td>Fully Paid</td>\n",
       "      <td>n</td>\n",
       "      <td>https://lendingclub.com/browse/loanDetail.acti...</td>\n",
       "      <td>NaN</td>\n",
       "      <td>small_business</td>\n",
       "      <td>real estate business</td>\n",
       "      <td>606xx</td>\n",
       "      <td>IL</td>\n",
       "      <td>8.72</td>\n",
       "      <td>0</td>\n",
       "      <td>Nov-01</td>\n",
       "      <td>2</td>\n",
       "      <td>NaN</td>\n",
       "      <td>NaN</td>\n",
       "      <td>2</td>\n",
       "      <td>0</td>\n",
       "      <td>2956</td>\n",
       "      <td>98.50%</td>\n",
       "      <td>10</td>\n",
       "      <td>f</td>\n",
       "      <td>0.00</td>\n",
       "      <td>0.00</td>\n",
       "      <td>3005.666844</td>\n",
       "      <td>3005.67</td>\n",
       "      <td>2400.00</td>\n",
       "      <td>605.67</td>\n",
       "      <td>0.00</td>\n",
       "      <td>0.00</td>\n",
       "      <td>0.00</td>\n",
       "      <td>Jun-14</td>\n",
       "      <td>649.91</td>\n",
       "      <td>NaN</td>\n",
       "      <td>May-16</td>\n",
       "      <td>0.0</td>\n",
       "      <td>NaN</td>\n",
       "      <td>1</td>\n",
       "      <td>INDIVIDUAL</td>\n",
       "      <td>NaN</td>\n",
       "      <td>NaN</td>\n",
       "      <td>NaN</td>\n",
       "      <td>0</td>\n",
       "      <td>NaN</td>\n",
       "      <td>NaN</td>\n",
       "      <td>NaN</td>\n",
       "      <td>NaN</td>\n",
       "      <td>NaN</td>\n",
       "      <td>NaN</td>\n",
       "      <td>NaN</td>\n",
       "      <td>NaN</td>\n",
       "      <td>NaN</td>\n",
       "      <td>NaN</td>\n",
       "      <td>NaN</td>\n",
       "      <td>NaN</td>\n",
       "      <td>NaN</td>\n",
       "      <td>NaN</td>\n",
       "      <td>NaN</td>\n",
       "      <td>NaN</td>\n",
       "      <td>NaN</td>\n",
       "      <td>NaN</td>\n",
       "      <td>NaN</td>\n",
       "      <td>NaN</td>\n",
       "      <td>NaN</td>\n",
       "      <td>0.0</td>\n",
       "      <td>0</td>\n",
       "      <td>NaN</td>\n",
       "      <td>NaN</td>\n",
       "      <td>NaN</td>\n",
       "      <td>NaN</td>\n",
       "      <td>NaN</td>\n",
       "      <td>NaN</td>\n",
       "      <td>NaN</td>\n",
       "      <td>NaN</td>\n",
       "      <td>NaN</td>\n",
       "      <td>NaN</td>\n",
       "      <td>NaN</td>\n",
       "      <td>NaN</td>\n",
       "      <td>NaN</td>\n",
       "      <td>NaN</td>\n",
       "      <td>NaN</td>\n",
       "      <td>NaN</td>\n",
       "      <td>NaN</td>\n",
       "      <td>NaN</td>\n",
       "      <td>NaN</td>\n",
       "      <td>NaN</td>\n",
       "      <td>NaN</td>\n",
       "      <td>NaN</td>\n",
       "      <td>NaN</td>\n",
       "      <td>NaN</td>\n",
       "      <td>NaN</td>\n",
       "      <td>0.0</td>\n",
       "      <td>0.0</td>\n",
       "      <td>NaN</td>\n",
       "      <td>NaN</td>\n",
       "      <td>NaN</td>\n",
       "      <td>NaN</td>\n",
       "    </tr>\n",
       "    <tr>\n",
       "      <th>3</th>\n",
       "      <td>1076863</td>\n",
       "      <td>1277178</td>\n",
       "      <td>10000</td>\n",
       "      <td>10000</td>\n",
       "      <td>10000.0</td>\n",
       "      <td>36 months</td>\n",
       "      <td>13.49%</td>\n",
       "      <td>339.31</td>\n",
       "      <td>C</td>\n",
       "      <td>C1</td>\n",
       "      <td>AIR RESOURCES BOARD</td>\n",
       "      <td>10+ years</td>\n",
       "      <td>RENT</td>\n",
       "      <td>49200.0</td>\n",
       "      <td>Source Verified</td>\n",
       "      <td>Dec-11</td>\n",
       "      <td>Fully Paid</td>\n",
       "      <td>n</td>\n",
       "      <td>https://lendingclub.com/browse/loanDetail.acti...</td>\n",
       "      <td>Borrower added on 12/21/11 &gt; to pay for prop...</td>\n",
       "      <td>other</td>\n",
       "      <td>personel</td>\n",
       "      <td>917xx</td>\n",
       "      <td>CA</td>\n",
       "      <td>20.00</td>\n",
       "      <td>0</td>\n",
       "      <td>Feb-96</td>\n",
       "      <td>1</td>\n",
       "      <td>35.0</td>\n",
       "      <td>NaN</td>\n",
       "      <td>10</td>\n",
       "      <td>0</td>\n",
       "      <td>5598</td>\n",
       "      <td>21%</td>\n",
       "      <td>37</td>\n",
       "      <td>f</td>\n",
       "      <td>0.00</td>\n",
       "      <td>0.00</td>\n",
       "      <td>12231.890000</td>\n",
       "      <td>12231.89</td>\n",
       "      <td>10000.00</td>\n",
       "      <td>2214.92</td>\n",
       "      <td>16.97</td>\n",
       "      <td>0.00</td>\n",
       "      <td>0.00</td>\n",
       "      <td>Jan-15</td>\n",
       "      <td>357.48</td>\n",
       "      <td>NaN</td>\n",
       "      <td>Apr-16</td>\n",
       "      <td>0.0</td>\n",
       "      <td>NaN</td>\n",
       "      <td>1</td>\n",
       "      <td>INDIVIDUAL</td>\n",
       "      <td>NaN</td>\n",
       "      <td>NaN</td>\n",
       "      <td>NaN</td>\n",
       "      <td>0</td>\n",
       "      <td>NaN</td>\n",
       "      <td>NaN</td>\n",
       "      <td>NaN</td>\n",
       "      <td>NaN</td>\n",
       "      <td>NaN</td>\n",
       "      <td>NaN</td>\n",
       "      <td>NaN</td>\n",
       "      <td>NaN</td>\n",
       "      <td>NaN</td>\n",
       "      <td>NaN</td>\n",
       "      <td>NaN</td>\n",
       "      <td>NaN</td>\n",
       "      <td>NaN</td>\n",
       "      <td>NaN</td>\n",
       "      <td>NaN</td>\n",
       "      <td>NaN</td>\n",
       "      <td>NaN</td>\n",
       "      <td>NaN</td>\n",
       "      <td>NaN</td>\n",
       "      <td>NaN</td>\n",
       "      <td>NaN</td>\n",
       "      <td>0.0</td>\n",
       "      <td>0</td>\n",
       "      <td>NaN</td>\n",
       "      <td>NaN</td>\n",
       "      <td>NaN</td>\n",
       "      <td>NaN</td>\n",
       "      <td>NaN</td>\n",
       "      <td>NaN</td>\n",
       "      <td>NaN</td>\n",
       "      <td>NaN</td>\n",
       "      <td>NaN</td>\n",
       "      <td>NaN</td>\n",
       "      <td>NaN</td>\n",
       "      <td>NaN</td>\n",
       "      <td>NaN</td>\n",
       "      <td>NaN</td>\n",
       "      <td>NaN</td>\n",
       "      <td>NaN</td>\n",
       "      <td>NaN</td>\n",
       "      <td>NaN</td>\n",
       "      <td>NaN</td>\n",
       "      <td>NaN</td>\n",
       "      <td>NaN</td>\n",
       "      <td>NaN</td>\n",
       "      <td>NaN</td>\n",
       "      <td>NaN</td>\n",
       "      <td>NaN</td>\n",
       "      <td>0.0</td>\n",
       "      <td>0.0</td>\n",
       "      <td>NaN</td>\n",
       "      <td>NaN</td>\n",
       "      <td>NaN</td>\n",
       "      <td>NaN</td>\n",
       "    </tr>\n",
       "    <tr>\n",
       "      <th>4</th>\n",
       "      <td>1075358</td>\n",
       "      <td>1311748</td>\n",
       "      <td>3000</td>\n",
       "      <td>3000</td>\n",
       "      <td>3000.0</td>\n",
       "      <td>60 months</td>\n",
       "      <td>12.69%</td>\n",
       "      <td>67.79</td>\n",
       "      <td>B</td>\n",
       "      <td>B5</td>\n",
       "      <td>University Medical Group</td>\n",
       "      <td>1 year</td>\n",
       "      <td>RENT</td>\n",
       "      <td>80000.0</td>\n",
       "      <td>Source Verified</td>\n",
       "      <td>Dec-11</td>\n",
       "      <td>Current</td>\n",
       "      <td>n</td>\n",
       "      <td>https://lendingclub.com/browse/loanDetail.acti...</td>\n",
       "      <td>Borrower added on 12/21/11 &gt; I plan on combi...</td>\n",
       "      <td>other</td>\n",
       "      <td>Personal</td>\n",
       "      <td>972xx</td>\n",
       "      <td>OR</td>\n",
       "      <td>17.94</td>\n",
       "      <td>0</td>\n",
       "      <td>Jan-96</td>\n",
       "      <td>0</td>\n",
       "      <td>38.0</td>\n",
       "      <td>NaN</td>\n",
       "      <td>15</td>\n",
       "      <td>0</td>\n",
       "      <td>27783</td>\n",
       "      <td>53.90%</td>\n",
       "      <td>38</td>\n",
       "      <td>f</td>\n",
       "      <td>524.06</td>\n",
       "      <td>524.06</td>\n",
       "      <td>3513.330000</td>\n",
       "      <td>3513.33</td>\n",
       "      <td>2475.94</td>\n",
       "      <td>1037.39</td>\n",
       "      <td>0.00</td>\n",
       "      <td>0.00</td>\n",
       "      <td>0.00</td>\n",
       "      <td>May-16</td>\n",
       "      <td>67.79</td>\n",
       "      <td>Jun-16</td>\n",
       "      <td>May-16</td>\n",
       "      <td>0.0</td>\n",
       "      <td>NaN</td>\n",
       "      <td>1</td>\n",
       "      <td>INDIVIDUAL</td>\n",
       "      <td>NaN</td>\n",
       "      <td>NaN</td>\n",
       "      <td>NaN</td>\n",
       "      <td>0</td>\n",
       "      <td>NaN</td>\n",
       "      <td>NaN</td>\n",
       "      <td>NaN</td>\n",
       "      <td>NaN</td>\n",
       "      <td>NaN</td>\n",
       "      <td>NaN</td>\n",
       "      <td>NaN</td>\n",
       "      <td>NaN</td>\n",
       "      <td>NaN</td>\n",
       "      <td>NaN</td>\n",
       "      <td>NaN</td>\n",
       "      <td>NaN</td>\n",
       "      <td>NaN</td>\n",
       "      <td>NaN</td>\n",
       "      <td>NaN</td>\n",
       "      <td>NaN</td>\n",
       "      <td>NaN</td>\n",
       "      <td>NaN</td>\n",
       "      <td>NaN</td>\n",
       "      <td>NaN</td>\n",
       "      <td>NaN</td>\n",
       "      <td>0.0</td>\n",
       "      <td>0</td>\n",
       "      <td>NaN</td>\n",
       "      <td>NaN</td>\n",
       "      <td>NaN</td>\n",
       "      <td>NaN</td>\n",
       "      <td>NaN</td>\n",
       "      <td>NaN</td>\n",
       "      <td>NaN</td>\n",
       "      <td>NaN</td>\n",
       "      <td>NaN</td>\n",
       "      <td>NaN</td>\n",
       "      <td>NaN</td>\n",
       "      <td>NaN</td>\n",
       "      <td>NaN</td>\n",
       "      <td>NaN</td>\n",
       "      <td>NaN</td>\n",
       "      <td>NaN</td>\n",
       "      <td>NaN</td>\n",
       "      <td>NaN</td>\n",
       "      <td>NaN</td>\n",
       "      <td>NaN</td>\n",
       "      <td>NaN</td>\n",
       "      <td>NaN</td>\n",
       "      <td>NaN</td>\n",
       "      <td>NaN</td>\n",
       "      <td>NaN</td>\n",
       "      <td>0.0</td>\n",
       "      <td>0.0</td>\n",
       "      <td>NaN</td>\n",
       "      <td>NaN</td>\n",
       "      <td>NaN</td>\n",
       "      <td>NaN</td>\n",
       "    </tr>\n",
       "  </tbody>\n",
       "</table>\n",
       "</div>"
      ],
      "text/plain": [
       "        id  member_id  loan_amnt  funded_amnt  funded_amnt_inv        term  \\\n",
       "0  1077501    1296599       5000         5000           4975.0   36 months   \n",
       "1  1077430    1314167       2500         2500           2500.0   60 months   \n",
       "2  1077175    1313524       2400         2400           2400.0   36 months   \n",
       "3  1076863    1277178      10000        10000          10000.0   36 months   \n",
       "4  1075358    1311748       3000         3000           3000.0   60 months   \n",
       "\n",
       "  int_rate  installment grade sub_grade                 emp_title emp_length  \\\n",
       "0   10.65%       162.87     B        B2                       NaN  10+ years   \n",
       "1   15.27%        59.83     C        C4                     Ryder   < 1 year   \n",
       "2   15.96%        84.33     C        C5                       NaN  10+ years   \n",
       "3   13.49%       339.31     C        C1       AIR RESOURCES BOARD  10+ years   \n",
       "4   12.69%        67.79     B        B5  University Medical Group     1 year   \n",
       "\n",
       "  home_ownership  annual_inc verification_status issue_d  loan_status  \\\n",
       "0           RENT     24000.0            Verified  Dec-11   Fully Paid   \n",
       "1           RENT     30000.0     Source Verified  Dec-11  Charged Off   \n",
       "2           RENT     12252.0        Not Verified  Dec-11   Fully Paid   \n",
       "3           RENT     49200.0     Source Verified  Dec-11   Fully Paid   \n",
       "4           RENT     80000.0     Source Verified  Dec-11      Current   \n",
       "\n",
       "  pymnt_plan                                                url  \\\n",
       "0          n  https://lendingclub.com/browse/loanDetail.acti...   \n",
       "1          n  https://lendingclub.com/browse/loanDetail.acti...   \n",
       "2          n  https://lendingclub.com/browse/loanDetail.acti...   \n",
       "3          n  https://lendingclub.com/browse/loanDetail.acti...   \n",
       "4          n  https://lendingclub.com/browse/loanDetail.acti...   \n",
       "\n",
       "                                                desc         purpose  \\\n",
       "0    Borrower added on 12/22/11 > I need to upgra...     credit_card   \n",
       "1    Borrower added on 12/22/11 > I plan to use t...             car   \n",
       "2                                                NaN  small_business   \n",
       "3    Borrower added on 12/21/11 > to pay for prop...           other   \n",
       "4    Borrower added on 12/21/11 > I plan on combi...           other   \n",
       "\n",
       "                  title zip_code addr_state    dti  delinq_2yrs  \\\n",
       "0              Computer    860xx         AZ  27.65            0   \n",
       "1                  bike    309xx         GA   1.00            0   \n",
       "2  real estate business    606xx         IL   8.72            0   \n",
       "3              personel    917xx         CA  20.00            0   \n",
       "4              Personal    972xx         OR  17.94            0   \n",
       "\n",
       "  earliest_cr_line  inq_last_6mths  mths_since_last_delinq  \\\n",
       "0           Jan-85               1                     NaN   \n",
       "1           Apr-99               5                     NaN   \n",
       "2           Nov-01               2                     NaN   \n",
       "3           Feb-96               1                    35.0   \n",
       "4           Jan-96               0                    38.0   \n",
       "\n",
       "   mths_since_last_record  open_acc  pub_rec  revol_bal revol_util  total_acc  \\\n",
       "0                     NaN         3        0      13648     83.70%          9   \n",
       "1                     NaN         3        0       1687      9.40%          4   \n",
       "2                     NaN         2        0       2956     98.50%         10   \n",
       "3                     NaN        10        0       5598        21%         37   \n",
       "4                     NaN        15        0      27783     53.90%         38   \n",
       "\n",
       "  initial_list_status  out_prncp  out_prncp_inv   total_pymnt  \\\n",
       "0                   f       0.00           0.00   5863.155187   \n",
       "1                   f       0.00           0.00   1008.710000   \n",
       "2                   f       0.00           0.00   3005.666844   \n",
       "3                   f       0.00           0.00  12231.890000   \n",
       "4                   f     524.06         524.06   3513.330000   \n",
       "\n",
       "   total_pymnt_inv  total_rec_prncp  total_rec_int  total_rec_late_fee  \\\n",
       "0          5833.84          5000.00         863.16                0.00   \n",
       "1          1008.71           456.46         435.17                0.00   \n",
       "2          3005.67          2400.00         605.67                0.00   \n",
       "3         12231.89         10000.00        2214.92               16.97   \n",
       "4          3513.33          2475.94        1037.39                0.00   \n",
       "\n",
       "   recoveries  collection_recovery_fee last_pymnt_d  last_pymnt_amnt  \\\n",
       "0        0.00                     0.00       Jan-15           171.62   \n",
       "1      117.08                     1.11       Apr-13           119.66   \n",
       "2        0.00                     0.00       Jun-14           649.91   \n",
       "3        0.00                     0.00       Jan-15           357.48   \n",
       "4        0.00                     0.00       May-16            67.79   \n",
       "\n",
       "  next_pymnt_d last_credit_pull_d  collections_12_mths_ex_med  \\\n",
       "0          NaN             May-16                         0.0   \n",
       "1          NaN             Sep-13                         0.0   \n",
       "2          NaN             May-16                         0.0   \n",
       "3          NaN             Apr-16                         0.0   \n",
       "4       Jun-16             May-16                         0.0   \n",
       "\n",
       "   mths_since_last_major_derog  policy_code application_type  \\\n",
       "0                          NaN            1       INDIVIDUAL   \n",
       "1                          NaN            1       INDIVIDUAL   \n",
       "2                          NaN            1       INDIVIDUAL   \n",
       "3                          NaN            1       INDIVIDUAL   \n",
       "4                          NaN            1       INDIVIDUAL   \n",
       "\n",
       "   annual_inc_joint  dti_joint  verification_status_joint  acc_now_delinq  \\\n",
       "0               NaN        NaN                        NaN               0   \n",
       "1               NaN        NaN                        NaN               0   \n",
       "2               NaN        NaN                        NaN               0   \n",
       "3               NaN        NaN                        NaN               0   \n",
       "4               NaN        NaN                        NaN               0   \n",
       "\n",
       "   tot_coll_amt  tot_cur_bal  open_acc_6m  open_il_6m  open_il_12m  \\\n",
       "0           NaN          NaN          NaN         NaN          NaN   \n",
       "1           NaN          NaN          NaN         NaN          NaN   \n",
       "2           NaN          NaN          NaN         NaN          NaN   \n",
       "3           NaN          NaN          NaN         NaN          NaN   \n",
       "4           NaN          NaN          NaN         NaN          NaN   \n",
       "\n",
       "   open_il_24m  mths_since_rcnt_il  total_bal_il  il_util  open_rv_12m  \\\n",
       "0          NaN                 NaN           NaN      NaN          NaN   \n",
       "1          NaN                 NaN           NaN      NaN          NaN   \n",
       "2          NaN                 NaN           NaN      NaN          NaN   \n",
       "3          NaN                 NaN           NaN      NaN          NaN   \n",
       "4          NaN                 NaN           NaN      NaN          NaN   \n",
       "\n",
       "   open_rv_24m  max_bal_bc  all_util  total_rev_hi_lim  inq_fi  total_cu_tl  \\\n",
       "0          NaN         NaN       NaN               NaN     NaN          NaN   \n",
       "1          NaN         NaN       NaN               NaN     NaN          NaN   \n",
       "2          NaN         NaN       NaN               NaN     NaN          NaN   \n",
       "3          NaN         NaN       NaN               NaN     NaN          NaN   \n",
       "4          NaN         NaN       NaN               NaN     NaN          NaN   \n",
       "\n",
       "   inq_last_12m  acc_open_past_24mths  avg_cur_bal  bc_open_to_buy  bc_util  \\\n",
       "0           NaN                   NaN          NaN             NaN      NaN   \n",
       "1           NaN                   NaN          NaN             NaN      NaN   \n",
       "2           NaN                   NaN          NaN             NaN      NaN   \n",
       "3           NaN                   NaN          NaN             NaN      NaN   \n",
       "4           NaN                   NaN          NaN             NaN      NaN   \n",
       "\n",
       "   chargeoff_within_12_mths  delinq_amnt  mo_sin_old_il_acct  \\\n",
       "0                       0.0            0                 NaN   \n",
       "1                       0.0            0                 NaN   \n",
       "2                       0.0            0                 NaN   \n",
       "3                       0.0            0                 NaN   \n",
       "4                       0.0            0                 NaN   \n",
       "\n",
       "   mo_sin_old_rev_tl_op  mo_sin_rcnt_rev_tl_op  mo_sin_rcnt_tl  mort_acc  \\\n",
       "0                   NaN                    NaN             NaN       NaN   \n",
       "1                   NaN                    NaN             NaN       NaN   \n",
       "2                   NaN                    NaN             NaN       NaN   \n",
       "3                   NaN                    NaN             NaN       NaN   \n",
       "4                   NaN                    NaN             NaN       NaN   \n",
       "\n",
       "   mths_since_recent_bc  mths_since_recent_bc_dlq  mths_since_recent_inq  \\\n",
       "0                   NaN                       NaN                    NaN   \n",
       "1                   NaN                       NaN                    NaN   \n",
       "2                   NaN                       NaN                    NaN   \n",
       "3                   NaN                       NaN                    NaN   \n",
       "4                   NaN                       NaN                    NaN   \n",
       "\n",
       "   mths_since_recent_revol_delinq  num_accts_ever_120_pd  num_actv_bc_tl  \\\n",
       "0                             NaN                    NaN             NaN   \n",
       "1                             NaN                    NaN             NaN   \n",
       "2                             NaN                    NaN             NaN   \n",
       "3                             NaN                    NaN             NaN   \n",
       "4                             NaN                    NaN             NaN   \n",
       "\n",
       "   num_actv_rev_tl  num_bc_sats  num_bc_tl  num_il_tl  num_op_rev_tl  \\\n",
       "0              NaN          NaN        NaN        NaN            NaN   \n",
       "1              NaN          NaN        NaN        NaN            NaN   \n",
       "2              NaN          NaN        NaN        NaN            NaN   \n",
       "3              NaN          NaN        NaN        NaN            NaN   \n",
       "4              NaN          NaN        NaN        NaN            NaN   \n",
       "\n",
       "   num_rev_accts  num_rev_tl_bal_gt_0  num_sats  num_tl_120dpd_2m  \\\n",
       "0            NaN                  NaN       NaN               NaN   \n",
       "1            NaN                  NaN       NaN               NaN   \n",
       "2            NaN                  NaN       NaN               NaN   \n",
       "3            NaN                  NaN       NaN               NaN   \n",
       "4            NaN                  NaN       NaN               NaN   \n",
       "\n",
       "   num_tl_30dpd  num_tl_90g_dpd_24m  num_tl_op_past_12m  pct_tl_nvr_dlq  \\\n",
       "0           NaN                 NaN                 NaN             NaN   \n",
       "1           NaN                 NaN                 NaN             NaN   \n",
       "2           NaN                 NaN                 NaN             NaN   \n",
       "3           NaN                 NaN                 NaN             NaN   \n",
       "4           NaN                 NaN                 NaN             NaN   \n",
       "\n",
       "   percent_bc_gt_75  pub_rec_bankruptcies  tax_liens  tot_hi_cred_lim  \\\n",
       "0               NaN                   0.0        0.0              NaN   \n",
       "1               NaN                   0.0        0.0              NaN   \n",
       "2               NaN                   0.0        0.0              NaN   \n",
       "3               NaN                   0.0        0.0              NaN   \n",
       "4               NaN                   0.0        0.0              NaN   \n",
       "\n",
       "   total_bal_ex_mort  total_bc_limit  total_il_high_credit_limit  \n",
       "0                NaN             NaN                         NaN  \n",
       "1                NaN             NaN                         NaN  \n",
       "2                NaN             NaN                         NaN  \n",
       "3                NaN             NaN                         NaN  \n",
       "4                NaN             NaN                         NaN  "
      ]
     },
     "execution_count": 5,
     "metadata": {},
     "output_type": "execute_result"
    }
   ],
   "source": [
    "# analyze the top 5 records \n",
    "loan_data.head()"
   ]
  },
  {
   "cell_type": "markdown",
   "id": "8c645715",
   "metadata": {},
   "source": [
    "#### 2. Perfoming Data Handling and Cleaning on loan data set"
   ]
  },
  {
   "cell_type": "code",
   "execution_count": 6,
   "id": "0bfbb1cb",
   "metadata": {},
   "outputs": [
    {
     "name": "stdout",
     "output_type": "stream",
     "text": [
      "<class 'pandas.core.frame.DataFrame'>\n",
      "RangeIndex: 39717 entries, 0 to 39716\n",
      "Data columns (total 111 columns):\n",
      " #    Column                          Non-Null Count  Dtype  \n",
      "---   ------                          --------------  -----  \n",
      " 0    id                              39717 non-null  int64  \n",
      " 1    member_id                       39717 non-null  int64  \n",
      " 2    loan_amnt                       39717 non-null  int64  \n",
      " 3    funded_amnt                     39717 non-null  int64  \n",
      " 4    funded_amnt_inv                 39717 non-null  float64\n",
      " 5    term                            39717 non-null  object \n",
      " 6    int_rate                        39717 non-null  object \n",
      " 7    installment                     39717 non-null  float64\n",
      " 8    grade                           39717 non-null  object \n",
      " 9    sub_grade                       39717 non-null  object \n",
      " 10   emp_title                       37258 non-null  object \n",
      " 11   emp_length                      38642 non-null  object \n",
      " 12   home_ownership                  39717 non-null  object \n",
      " 13   annual_inc                      39717 non-null  float64\n",
      " 14   verification_status             39717 non-null  object \n",
      " 15   issue_d                         39717 non-null  object \n",
      " 16   loan_status                     39717 non-null  object \n",
      " 17   pymnt_plan                      39717 non-null  object \n",
      " 18   url                             39717 non-null  object \n",
      " 19   desc                            26777 non-null  object \n",
      " 20   purpose                         39717 non-null  object \n",
      " 21   title                           39706 non-null  object \n",
      " 22   zip_code                        39717 non-null  object \n",
      " 23   addr_state                      39717 non-null  object \n",
      " 24   dti                             39717 non-null  float64\n",
      " 25   delinq_2yrs                     39717 non-null  int64  \n",
      " 26   earliest_cr_line                39717 non-null  object \n",
      " 27   inq_last_6mths                  39717 non-null  int64  \n",
      " 28   mths_since_last_delinq          14035 non-null  float64\n",
      " 29   mths_since_last_record          2786 non-null   float64\n",
      " 30   open_acc                        39717 non-null  int64  \n",
      " 31   pub_rec                         39717 non-null  int64  \n",
      " 32   revol_bal                       39717 non-null  int64  \n",
      " 33   revol_util                      39667 non-null  object \n",
      " 34   total_acc                       39717 non-null  int64  \n",
      " 35   initial_list_status             39717 non-null  object \n",
      " 36   out_prncp                       39717 non-null  float64\n",
      " 37   out_prncp_inv                   39717 non-null  float64\n",
      " 38   total_pymnt                     39717 non-null  float64\n",
      " 39   total_pymnt_inv                 39717 non-null  float64\n",
      " 40   total_rec_prncp                 39717 non-null  float64\n",
      " 41   total_rec_int                   39717 non-null  float64\n",
      " 42   total_rec_late_fee              39717 non-null  float64\n",
      " 43   recoveries                      39717 non-null  float64\n",
      " 44   collection_recovery_fee         39717 non-null  float64\n",
      " 45   last_pymnt_d                    39646 non-null  object \n",
      " 46   last_pymnt_amnt                 39717 non-null  float64\n",
      " 47   next_pymnt_d                    1140 non-null   object \n",
      " 48   last_credit_pull_d              39715 non-null  object \n",
      " 49   collections_12_mths_ex_med      39661 non-null  float64\n",
      " 50   mths_since_last_major_derog     0 non-null      float64\n",
      " 51   policy_code                     39717 non-null  int64  \n",
      " 52   application_type                39717 non-null  object \n",
      " 53   annual_inc_joint                0 non-null      float64\n",
      " 54   dti_joint                       0 non-null      float64\n",
      " 55   verification_status_joint       0 non-null      float64\n",
      " 56   acc_now_delinq                  39717 non-null  int64  \n",
      " 57   tot_coll_amt                    0 non-null      float64\n",
      " 58   tot_cur_bal                     0 non-null      float64\n",
      " 59   open_acc_6m                     0 non-null      float64\n",
      " 60   open_il_6m                      0 non-null      float64\n",
      " 61   open_il_12m                     0 non-null      float64\n",
      " 62   open_il_24m                     0 non-null      float64\n",
      " 63   mths_since_rcnt_il              0 non-null      float64\n",
      " 64   total_bal_il                    0 non-null      float64\n",
      " 65   il_util                         0 non-null      float64\n",
      " 66   open_rv_12m                     0 non-null      float64\n",
      " 67   open_rv_24m                     0 non-null      float64\n",
      " 68   max_bal_bc                      0 non-null      float64\n",
      " 69   all_util                        0 non-null      float64\n",
      " 70   total_rev_hi_lim                0 non-null      float64\n",
      " 71   inq_fi                          0 non-null      float64\n",
      " 72   total_cu_tl                     0 non-null      float64\n",
      " 73   inq_last_12m                    0 non-null      float64\n",
      " 74   acc_open_past_24mths            0 non-null      float64\n",
      " 75   avg_cur_bal                     0 non-null      float64\n",
      " 76   bc_open_to_buy                  0 non-null      float64\n",
      " 77   bc_util                         0 non-null      float64\n",
      " 78   chargeoff_within_12_mths        39661 non-null  float64\n",
      " 79   delinq_amnt                     39717 non-null  int64  \n",
      " 80   mo_sin_old_il_acct              0 non-null      float64\n",
      " 81   mo_sin_old_rev_tl_op            0 non-null      float64\n",
      " 82   mo_sin_rcnt_rev_tl_op           0 non-null      float64\n",
      " 83   mo_sin_rcnt_tl                  0 non-null      float64\n",
      " 84   mort_acc                        0 non-null      float64\n",
      " 85   mths_since_recent_bc            0 non-null      float64\n",
      " 86   mths_since_recent_bc_dlq        0 non-null      float64\n",
      " 87   mths_since_recent_inq           0 non-null      float64\n",
      " 88   mths_since_recent_revol_delinq  0 non-null      float64\n",
      " 89   num_accts_ever_120_pd           0 non-null      float64\n",
      " 90   num_actv_bc_tl                  0 non-null      float64\n",
      " 91   num_actv_rev_tl                 0 non-null      float64\n",
      " 92   num_bc_sats                     0 non-null      float64\n",
      " 93   num_bc_tl                       0 non-null      float64\n",
      " 94   num_il_tl                       0 non-null      float64\n",
      " 95   num_op_rev_tl                   0 non-null      float64\n",
      " 96   num_rev_accts                   0 non-null      float64\n",
      " 97   num_rev_tl_bal_gt_0             0 non-null      float64\n",
      " 98   num_sats                        0 non-null      float64\n",
      " 99   num_tl_120dpd_2m                0 non-null      float64\n",
      " 100  num_tl_30dpd                    0 non-null      float64\n",
      " 101  num_tl_90g_dpd_24m              0 non-null      float64\n",
      " 102  num_tl_op_past_12m              0 non-null      float64\n",
      " 103  pct_tl_nvr_dlq                  0 non-null      float64\n",
      " 104  percent_bc_gt_75                0 non-null      float64\n",
      " 105  pub_rec_bankruptcies            39020 non-null  float64\n",
      " 106  tax_liens                       39678 non-null  float64\n",
      " 107  tot_hi_cred_lim                 0 non-null      float64\n",
      " 108  total_bal_ex_mort               0 non-null      float64\n",
      " 109  total_bc_limit                  0 non-null      float64\n",
      " 110  total_il_high_credit_limit      0 non-null      float64\n",
      "dtypes: float64(74), int64(13), object(24)\n",
      "memory usage: 33.6+ MB\n"
     ]
    }
   ],
   "source": [
    "# analyzing the column info\n",
    "loan_data.info(verbose=True, null_counts=True)"
   ]
  },
  {
   "cell_type": "markdown",
   "id": "9c53d850",
   "metadata": {},
   "source": [
    "According to the above analysis, we can notice that there are a number of columns having discrepancies, we need to impute or remove those columns based on further analysis. According to further analysis we can find 2 major categories of columns with descripancies,<br>\n",
    "&emsp;&emsp;&emsp;&emsp;__- Columns with no records (0 records)__<br>\n",
    "&emsp;&emsp;&emsp;&emsp;__- Columns with missing records (records more than 0 and lesser than 39717)__"
   ]
  },
  {
   "cell_type": "markdown",
   "id": "6a90fcb1",
   "metadata": {},
   "source": [
    "__Since columns with no records don't make any sense and won't contribute to the analysis we need to remove those columns to reduce the noise of the loan data set__"
   ]
  },
  {
   "cell_type": "code",
   "execution_count": 7,
   "id": "ef1b38c2",
   "metadata": {},
   "outputs": [],
   "source": [
    "# removing columns with 0 records \n",
    "loan_data = loan_data[loan_data.columns[(loan_data.isnull().sum()) < len(loan_data)]]"
   ]
  },
  {
   "cell_type": "code",
   "execution_count": 8,
   "id": "bcd72271",
   "metadata": {},
   "outputs": [
    {
     "name": "stdout",
     "output_type": "stream",
     "text": [
      "<class 'pandas.core.frame.DataFrame'>\n",
      "RangeIndex: 39717 entries, 0 to 39716\n",
      "Data columns (total 57 columns):\n",
      " #   Column                      Non-Null Count  Dtype  \n",
      "---  ------                      --------------  -----  \n",
      " 0   id                          39717 non-null  int64  \n",
      " 1   member_id                   39717 non-null  int64  \n",
      " 2   loan_amnt                   39717 non-null  int64  \n",
      " 3   funded_amnt                 39717 non-null  int64  \n",
      " 4   funded_amnt_inv             39717 non-null  float64\n",
      " 5   term                        39717 non-null  object \n",
      " 6   int_rate                    39717 non-null  object \n",
      " 7   installment                 39717 non-null  float64\n",
      " 8   grade                       39717 non-null  object \n",
      " 9   sub_grade                   39717 non-null  object \n",
      " 10  emp_title                   37258 non-null  object \n",
      " 11  emp_length                  38642 non-null  object \n",
      " 12  home_ownership              39717 non-null  object \n",
      " 13  annual_inc                  39717 non-null  float64\n",
      " 14  verification_status         39717 non-null  object \n",
      " 15  issue_d                     39717 non-null  object \n",
      " 16  loan_status                 39717 non-null  object \n",
      " 17  pymnt_plan                  39717 non-null  object \n",
      " 18  url                         39717 non-null  object \n",
      " 19  desc                        26777 non-null  object \n",
      " 20  purpose                     39717 non-null  object \n",
      " 21  title                       39706 non-null  object \n",
      " 22  zip_code                    39717 non-null  object \n",
      " 23  addr_state                  39717 non-null  object \n",
      " 24  dti                         39717 non-null  float64\n",
      " 25  delinq_2yrs                 39717 non-null  int64  \n",
      " 26  earliest_cr_line            39717 non-null  object \n",
      " 27  inq_last_6mths              39717 non-null  int64  \n",
      " 28  mths_since_last_delinq      14035 non-null  float64\n",
      " 29  mths_since_last_record      2786 non-null   float64\n",
      " 30  open_acc                    39717 non-null  int64  \n",
      " 31  pub_rec                     39717 non-null  int64  \n",
      " 32  revol_bal                   39717 non-null  int64  \n",
      " 33  revol_util                  39667 non-null  object \n",
      " 34  total_acc                   39717 non-null  int64  \n",
      " 35  initial_list_status         39717 non-null  object \n",
      " 36  out_prncp                   39717 non-null  float64\n",
      " 37  out_prncp_inv               39717 non-null  float64\n",
      " 38  total_pymnt                 39717 non-null  float64\n",
      " 39  total_pymnt_inv             39717 non-null  float64\n",
      " 40  total_rec_prncp             39717 non-null  float64\n",
      " 41  total_rec_int               39717 non-null  float64\n",
      " 42  total_rec_late_fee          39717 non-null  float64\n",
      " 43  recoveries                  39717 non-null  float64\n",
      " 44  collection_recovery_fee     39717 non-null  float64\n",
      " 45  last_pymnt_d                39646 non-null  object \n",
      " 46  last_pymnt_amnt             39717 non-null  float64\n",
      " 47  next_pymnt_d                1140 non-null   object \n",
      " 48  last_credit_pull_d          39715 non-null  object \n",
      " 49  collections_12_mths_ex_med  39661 non-null  float64\n",
      " 50  policy_code                 39717 non-null  int64  \n",
      " 51  application_type            39717 non-null  object \n",
      " 52  acc_now_delinq              39717 non-null  int64  \n",
      " 53  chargeoff_within_12_mths    39661 non-null  float64\n",
      " 54  delinq_amnt                 39717 non-null  int64  \n",
      " 55  pub_rec_bankruptcies        39020 non-null  float64\n",
      " 56  tax_liens                   39678 non-null  float64\n",
      "dtypes: float64(20), int64(13), object(24)\n",
      "memory usage: 17.3+ MB\n"
     ]
    }
   ],
   "source": [
    "# # analyzing the column info after removing columns with 0 records \n",
    "loan_data.info()"
   ]
  },
  {
   "cell_type": "code",
   "execution_count": 9,
   "id": "4c690ac6",
   "metadata": {},
   "outputs": [
    {
     "data": {
      "text/plain": [
       "Index(['emp_title', 'emp_length', 'desc', 'title', 'mths_since_last_delinq',\n",
       "       'mths_since_last_record', 'revol_util', 'last_pymnt_d', 'next_pymnt_d',\n",
       "       'last_credit_pull_d', 'collections_12_mths_ex_med',\n",
       "       'chargeoff_within_12_mths', 'pub_rec_bankruptcies', 'tax_liens'],\n",
       "      dtype='object')"
      ]
     },
     "execution_count": 9,
     "metadata": {},
     "output_type": "execute_result"
    }
   ],
   "source": [
    "# getting the list of columns having less than 39717 records\n",
    "loan_data.columns[(loan_data.notnull().sum()) < len(loan_data)]"
   ]
  },
  {
   "cell_type": "markdown",
   "id": "0f14e74f",
   "metadata": {},
   "source": [
    "According to the above analysis following columns having lesser than 39717 records (which means there are missing records)<br><br>\n",
    "&emsp;&emsp;&emsp;&emsp;__- emp_title__<br>\n",
    "&emsp;&emsp;&emsp;&emsp;__- emp_length__<br>\n",
    "&emsp;&emsp;&emsp;&emsp;__- desc__<br>\n",
    "&emsp;&emsp;&emsp;&emsp;__- title__<br>\n",
    "&emsp;&emsp;&emsp;&emsp;__- mths_since_last_delinq__<br>\n",
    "&emsp;&emsp;&emsp;&emsp;__- mths_since_last_record__<br>\n",
    "&emsp;&emsp;&emsp;&emsp;__- revol_util__<br>\n",
    "&emsp;&emsp;&emsp;&emsp;__- last_pymnt_d__<br>\n",
    "&emsp;&emsp;&emsp;&emsp;__- next_pymnt_d__<br>\n",
    "&emsp;&emsp;&emsp;&emsp;__- last_credit_pull_d__<br>\n",
    "&emsp;&emsp;&emsp;&emsp;__- collections_12_mths_ex_med__<br>\n",
    "&emsp;&emsp;&emsp;&emsp;__- chargeoff_within_12_mths__<br>\n",
    "&emsp;&emsp;&emsp;&emsp;__- pub_rec_bankruptcies__<br>\n",
    "&emsp;&emsp;&emsp;&emsp;__- tax_liens__<br>\n",
    "<br>"
   ]
  },
  {
   "cell_type": "markdown",
   "id": "67d60851",
   "metadata": {},
   "source": [
    "Now we need to analyze each of the above columns and need to conclude how we are going to handle the missing records, either impute or remove the respective row. To get a better understanding of missing records we need to find the percentage missing records"
   ]
  },
  {
   "cell_type": "code",
   "execution_count": 10,
   "id": "720b37e0",
   "metadata": {},
   "outputs": [
    {
     "data": {
      "text/plain": [
       "emp_title                      6.191303\n",
       "emp_length                     2.706650\n",
       "desc                          32.580507\n",
       "title                          0.027696\n",
       "mths_since_last_delinq        64.662487\n",
       "mths_since_last_record        92.985372\n",
       "revol_util                     0.125891\n",
       "last_pymnt_d                   0.178765\n",
       "next_pymnt_d                  97.129693\n",
       "last_credit_pull_d             0.005036\n",
       "collections_12_mths_ex_med     0.140998\n",
       "chargeoff_within_12_mths       0.140998\n",
       "pub_rec_bankruptcies           1.754916\n",
       "tax_liens                      0.098195\n",
       "dtype: float64"
      ]
     },
     "execution_count": 10,
     "metadata": {},
     "output_type": "execute_result"
    }
   ],
   "source": [
    "# analyzing the percentage of missing records \n",
    "loan_data[loan_data.columns[loan_data.isnull().any()]].isnull().sum() * 100 / loan_data.shape[0]"
   ]
  },
  {
   "cell_type": "markdown",
   "id": "530eb1ea",
   "metadata": {},
   "source": [
    "Approximately __6.19%__ of __emp_title__ records are missing, since __emp_title__ is a vital categorical variable it's not appropriate to impute, hence decided to remove the records which having missing values"
   ]
  },
  {
   "cell_type": "code",
   "execution_count": 11,
   "id": "ed8113ff",
   "metadata": {},
   "outputs": [],
   "source": [
    "# removing the missing emp_title records \n",
    "loan_data = loan_data[~loan_data.emp_title.isnull()]"
   ]
  },
  {
   "cell_type": "markdown",
   "id": "56fbcca8",
   "metadata": {},
   "source": [
    "Approximately __2.7%__ of __emp_length__ records are missing and it's considerably less, since __emp_length__ is a vital categorical variable it's not appropriate to impute, hence decided to remove the records which having missing values"
   ]
  },
  {
   "cell_type": "code",
   "execution_count": 12,
   "id": "99480d45",
   "metadata": {},
   "outputs": [],
   "source": [
    "# removing the missing emp_length records \n",
    "loan_data = loan_data[~loan_data.emp_length.isnull()]"
   ]
  },
  {
   "cell_type": "markdown",
   "id": "d75880d4",
   "metadata": {},
   "source": [
    "Approximately __32.58%__ of __desc__ records are missing and it's not an appropriate column to become a categorical variable, hence decided to remove the __desc__ column"
   ]
  },
  {
   "cell_type": "code",
   "execution_count": 13,
   "id": "fff97bb7",
   "metadata": {},
   "outputs": [],
   "source": [
    "# removing the desc column  \n",
    "loan_data = loan_data.drop('desc', axis=1)"
   ]
  },
  {
   "cell_type": "markdown",
   "id": "e72a1821",
   "metadata": {},
   "source": [
    "Approximately __0.02%__ of __title__ records are missing, since __title__ column is a good categorical variable candidate,   decided to remove the records which having missing values"
   ]
  },
  {
   "cell_type": "code",
   "execution_count": 14,
   "id": "65d33126",
   "metadata": {},
   "outputs": [],
   "source": [
    "# removing the missing title records \n",
    "loan_data = loan_data[~loan_data.title.isnull()]"
   ]
  },
  {
   "cell_type": "markdown",
   "id": "26837e79",
   "metadata": {},
   "source": [
    "Approximately __64.66%__ of __mths_since_last_delinq__ records are missing and as per data dictionary we can consider missing records as 0 months, hence impute 0 for all missing __mths_since_last_delinq__ records"
   ]
  },
  {
   "cell_type": "code",
   "execution_count": 15,
   "id": "d02bc838",
   "metadata": {},
   "outputs": [],
   "source": [
    "# impute 0 for all missing mths_since_last_delinq records\n",
    "loan_data.mths_since_last_delinq = loan_data.mths_since_last_delinq.fillna(0)"
   ]
  },
  {
   "cell_type": "markdown",
   "id": "1f0775d5",
   "metadata": {},
   "source": [
    "Approximately __92.98%__ of __mths_since_last_record__ records are missing and the idle solution is to remove the entire __mths_since_last_record__ column, but before removing the column based on the available records, we need to remove the records older than 30 days to keep the Loan Dataset updated."
   ]
  },
  {
   "cell_type": "code",
   "execution_count": 16,
   "id": "ae5091be",
   "metadata": {},
   "outputs": [],
   "source": [
    "# removing the records older than 30 days \n",
    "loan_data.mths_since_last_record = loan_data.mths_since_last_record.fillna(0)\n",
    "loan_data = loan_data[loan_data.mths_since_last_record<30]\n",
    "# removing the mths_since_last_record column \n",
    "loan_data = loan_data.drop('mths_since_last_record', axis=1)"
   ]
  },
  {
   "cell_type": "markdown",
   "id": "557f2d56",
   "metadata": {},
   "source": [
    "Approximately __0.12%__ of __revol_util__ records are missing and decided to remove the records which having missing values"
   ]
  },
  {
   "cell_type": "code",
   "execution_count": 17,
   "id": "e8822b33",
   "metadata": {},
   "outputs": [],
   "source": [
    "# removing the missing revol_util records \n",
    "loan_data = loan_data[~loan_data.revol_util.isnull()]"
   ]
  },
  {
   "cell_type": "markdown",
   "id": "e55e270a",
   "metadata": {},
   "source": [
    "Approximately __0.17%__ of __last_pymnt_d__ records are missing and decided to remove the records which having missing values"
   ]
  },
  {
   "cell_type": "code",
   "execution_count": 18,
   "id": "a6692f80",
   "metadata": {},
   "outputs": [],
   "source": [
    "# removing the missing last_pymnt_d records \n",
    "loan_data = loan_data[~loan_data.last_pymnt_d.isnull()]"
   ]
  },
  {
   "cell_type": "markdown",
   "id": "888602d5",
   "metadata": {},
   "source": [
    "Approximately __97.12%__ of __next_pymnt_d__ records are missing and decided to remove the __next_pymnt_d__ column"
   ]
  },
  {
   "cell_type": "code",
   "execution_count": 19,
   "id": "e528e733",
   "metadata": {},
   "outputs": [],
   "source": [
    "# removing the next_pymnt_d column \n",
    "loan_data = loan_data.drop('next_pymnt_d', axis=1)"
   ]
  },
  {
   "cell_type": "markdown",
   "id": "05ae1f1f",
   "metadata": {},
   "source": [
    "__All missing records related to *last_credit_pull_d* values, got removed with deletion of above rows and columns__"
   ]
  },
  {
   "cell_type": "markdown",
   "id": "316d7626",
   "metadata": {},
   "source": [
    "Approximately __0.14%__ of __collections_12_mths_ex_med__ are missing and decided to remove the records which having missing values"
   ]
  },
  {
   "cell_type": "code",
   "execution_count": 20,
   "id": "d3621b98",
   "metadata": {},
   "outputs": [],
   "source": [
    "# removing the missing collections_12_mths_ex_med records \n",
    "loan_data = loan_data[~loan_data.collections_12_mths_ex_med.isnull()]"
   ]
  },
  {
   "cell_type": "markdown",
   "id": "310a9449",
   "metadata": {},
   "source": [
    "__All missing records related to *chargeoff_within_12_mths* & *tax_liens* values, got removed with deletion of *collections_12_mths_ex_med* records__"
   ]
  },
  {
   "cell_type": "markdown",
   "id": "f80d40e6",
   "metadata": {},
   "source": [
    "Approximately __1.75%__ of __pub_rec_bankruptcies__ records are missing and decided to remove the records which having missing values"
   ]
  },
  {
   "cell_type": "code",
   "execution_count": 21,
   "id": "1f690e2b",
   "metadata": {},
   "outputs": [],
   "source": [
    "loan_data = loan_data[~loan_data.pub_rec_bankruptcies.isnull()]"
   ]
  },
  {
   "cell_type": "markdown",
   "id": "f1cc1b5f",
   "metadata": {},
   "source": [
    "After removing all the missing values in loan data set, need to ensure there are no more missing records, hence we need to check for any missing values again"
   ]
  },
  {
   "cell_type": "code",
   "execution_count": 22,
   "id": "f0cb3933",
   "metadata": {},
   "outputs": [
    {
     "data": {
      "text/plain": [
       "Series([], dtype: float64)"
      ]
     },
     "execution_count": 22,
     "metadata": {},
     "output_type": "execute_result"
    }
   ],
   "source": [
    "# checking for missing values\n",
    "loan_data[loan_data.columns[loan_data.isnull().any()]].isnull().sum()"
   ]
  },
  {
   "cell_type": "code",
   "execution_count": 23,
   "id": "15818e04",
   "metadata": {},
   "outputs": [
    {
     "data": {
      "text/plain": [
       "(34595, 54)"
      ]
     },
     "execution_count": 23,
     "metadata": {},
     "output_type": "execute_result"
    }
   ],
   "source": [
    "# getting the current shape of the loan data set\n",
    "loan_data.shape"
   ]
  },
  {
   "cell_type": "markdown",
   "id": "3ce9d130",
   "metadata": {},
   "source": [
    "The above analysis ensured there were no more missing values and after removing the all missing values there were __34595__ records and __54__ columns. Now we need to proceed further and need to check if are there any columns with invalid data types"
   ]
  },
  {
   "cell_type": "code",
   "execution_count": 24,
   "id": "e02b0a83",
   "metadata": {},
   "outputs": [
    {
     "name": "stdout",
     "output_type": "stream",
     "text": [
      "<class 'pandas.core.frame.DataFrame'>\n",
      "Int64Index: 34595 entries, 1 to 39002\n",
      "Data columns (total 54 columns):\n",
      " #   Column                      Non-Null Count  Dtype  \n",
      "---  ------                      --------------  -----  \n",
      " 0   id                          34595 non-null  int64  \n",
      " 1   member_id                   34595 non-null  int64  \n",
      " 2   loan_amnt                   34595 non-null  int64  \n",
      " 3   funded_amnt                 34595 non-null  int64  \n",
      " 4   funded_amnt_inv             34595 non-null  float64\n",
      " 5   term                        34595 non-null  object \n",
      " 6   int_rate                    34595 non-null  object \n",
      " 7   installment                 34595 non-null  float64\n",
      " 8   grade                       34595 non-null  object \n",
      " 9   sub_grade                   34595 non-null  object \n",
      " 10  emp_title                   34595 non-null  object \n",
      " 11  emp_length                  34595 non-null  object \n",
      " 12  home_ownership              34595 non-null  object \n",
      " 13  annual_inc                  34595 non-null  float64\n",
      " 14  verification_status         34595 non-null  object \n",
      " 15  issue_d                     34595 non-null  object \n",
      " 16  loan_status                 34595 non-null  object \n",
      " 17  pymnt_plan                  34595 non-null  object \n",
      " 18  url                         34595 non-null  object \n",
      " 19  purpose                     34595 non-null  object \n",
      " 20  title                       34595 non-null  object \n",
      " 21  zip_code                    34595 non-null  object \n",
      " 22  addr_state                  34595 non-null  object \n",
      " 23  dti                         34595 non-null  float64\n",
      " 24  delinq_2yrs                 34595 non-null  int64  \n",
      " 25  earliest_cr_line            34595 non-null  object \n",
      " 26  inq_last_6mths              34595 non-null  int64  \n",
      " 27  mths_since_last_delinq      34595 non-null  float64\n",
      " 28  open_acc                    34595 non-null  int64  \n",
      " 29  pub_rec                     34595 non-null  int64  \n",
      " 30  revol_bal                   34595 non-null  int64  \n",
      " 31  revol_util                  34595 non-null  object \n",
      " 32  total_acc                   34595 non-null  int64  \n",
      " 33  initial_list_status         34595 non-null  object \n",
      " 34  out_prncp                   34595 non-null  float64\n",
      " 35  out_prncp_inv               34595 non-null  float64\n",
      " 36  total_pymnt                 34595 non-null  float64\n",
      " 37  total_pymnt_inv             34595 non-null  float64\n",
      " 38  total_rec_prncp             34595 non-null  float64\n",
      " 39  total_rec_int               34595 non-null  float64\n",
      " 40  total_rec_late_fee          34595 non-null  float64\n",
      " 41  recoveries                  34595 non-null  float64\n",
      " 42  collection_recovery_fee     34595 non-null  float64\n",
      " 43  last_pymnt_d                34595 non-null  object \n",
      " 44  last_pymnt_amnt             34595 non-null  float64\n",
      " 45  last_credit_pull_d          34595 non-null  object \n",
      " 46  collections_12_mths_ex_med  34595 non-null  float64\n",
      " 47  policy_code                 34595 non-null  int64  \n",
      " 48  application_type            34595 non-null  object \n",
      " 49  acc_now_delinq              34595 non-null  int64  \n",
      " 50  chargeoff_within_12_mths    34595 non-null  float64\n",
      " 51  delinq_amnt                 34595 non-null  int64  \n",
      " 52  pub_rec_bankruptcies        34595 non-null  float64\n",
      " 53  tax_liens                   34595 non-null  float64\n",
      "dtypes: float64(19), int64(13), object(22)\n",
      "memory usage: 14.5+ MB\n"
     ]
    }
   ],
   "source": [
    "# getting data type details of current loan data set \n",
    "loan_data.info()"
   ]
  },
  {
   "cell_type": "markdown",
   "id": "423e1c57",
   "metadata": {},
   "source": [
    "During the analysis for data type mismatch following discrepancies identified,<br><br>\n",
    "&emsp;&emsp;&emsp;&emsp;- __loan_amnt__ should be type __float64__<br>\n",
    "&emsp;&emsp;&emsp;&emsp;- __funded_amnt__ should be type __float64__<br>\n",
    "&emsp;&emsp;&emsp;&emsp;- __term__ should be type __int32__<br>\n",
    "&emsp;&emsp;&emsp;&emsp;- __int_rate__ should be type __float64__<br>\n",
    "&emsp;&emsp;&emsp;&emsp;- __emp_length__ should be type __int32__<br>\n",
    "&emsp;&emsp;&emsp;&emsp;- __issue_d__ needed to segregate into __issue_d_month__ & __issue_d_year__<br>\n",
    "&emsp;&emsp;&emsp;&emsp;- __earliest_cr_line__ needed to segregate into __earliest_cr_line_month__ & __earliest_cr_line_year__<br>\n",
    "&emsp;&emsp;&emsp;&emsp;- __revol_util__ should be type __float64__<br>\n",
    "&emsp;&emsp;&emsp;&emsp;- __last_pymnt_d__ needed to segregate into __last_pymnt_d_month__ & __last_pymnt_d_year__<br>\n",
    "&emsp;&emsp;&emsp;&emsp;- __last_credit_pull_d__ needed to segregate into __last_credit_pull_d_month__ & __last_credit_pull_d_year__<br>\n",
    "&emsp;&emsp;&emsp;&emsp;- __pub_rec_bankruptcies__ should be type __int32__<br>\n",
    "&emsp;&emsp;&emsp;&emsp;- __tax_liens__ should be type __int32__<br><br>\n",
    "Following discrepacies should be addressed before proceeding further"
   ]
  },
  {
   "cell_type": "code",
   "execution_count": 25,
   "id": "6fd68a1b",
   "metadata": {},
   "outputs": [],
   "source": [
    "# cast loan_amnt into float64\n",
    "loan_data.loan_amnt = loan_data.loan_amnt.astype('float64')"
   ]
  },
  {
   "cell_type": "code",
   "execution_count": 26,
   "id": "1d57bb87",
   "metadata": {},
   "outputs": [],
   "source": [
    "# cast funded_amnt into float64\n",
    "loan_data.funded_amnt = loan_data.funded_amnt.astype('float64')"
   ]
  },
  {
   "cell_type": "code",
   "execution_count": 27,
   "id": "d03244e4",
   "metadata": {},
   "outputs": [],
   "source": [
    "# cast term into int32\n",
    "loan_data.term = loan_data.term.str[1:3].astype('int32')"
   ]
  },
  {
   "cell_type": "code",
   "execution_count": 28,
   "id": "c05125da",
   "metadata": {},
   "outputs": [],
   "source": [
    "# cast int_rate into float64\n",
    "loan_data.int_rate = loan_data.int_rate.str[:-1].astype('float64')"
   ]
  },
  {
   "cell_type": "code",
   "execution_count": 29,
   "id": "d8880f99",
   "metadata": {},
   "outputs": [],
   "source": [
    "# cast emp_length into int32, as per the provided data dictionary possible values are between 0 and 10 \n",
    "# where 0 means less than one year and 10 means ten or more years. \n",
    "loan_data.emp_length = loan_data.emp_length.apply(lambda x: 0 if x=='< 1 year' else int(x[:2]))"
   ]
  },
  {
   "cell_type": "code",
   "execution_count": 30,
   "id": "7f74968b",
   "metadata": {},
   "outputs": [],
   "source": [
    "# segregate last_pymnt_d into issue_d_month & issue_d_year\n",
    "loan_data['issue_d_month'] = loan_data.issue_d.str.split('-', 1).str[0]\n",
    "loan_data['issue_d_year'] = loan_data.issue_d.str.split('-', 1).str[1].apply(lambda x: int('20'+x))"
   ]
  },
  {
   "cell_type": "code",
   "execution_count": 31,
   "id": "6e035c0d",
   "metadata": {},
   "outputs": [],
   "source": [
    "# segregate earliest_cr_line into earliest_cr_line_month & earliest_cr_line_year\n",
    "loan_data['earliest_cr_line_month'] = loan_data.earliest_cr_line.str.split('-', 1).str[0]\n",
    "loan_data['earliest_cr_line_year'] = loan_data.earliest_cr_line.str.split('-', 1).str[1].apply(lambda x: '20'+x if int(x)<=10 else '19'+x) "
   ]
  },
  {
   "cell_type": "code",
   "execution_count": 32,
   "id": "9b489ba1",
   "metadata": {},
   "outputs": [],
   "source": [
    "# cast revol_util into float64\n",
    "loan_data.revol_util = loan_data.revol_util.str[:-1].astype('float64')"
   ]
  },
  {
   "cell_type": "code",
   "execution_count": 33,
   "id": "2419df10",
   "metadata": {},
   "outputs": [],
   "source": [
    "# segregate last_pymnt_d into last_pymnt_d_month & last_pymnt_d_year\n",
    "loan_data['last_pymnt_d_month'] = loan_data.last_pymnt_d.str.split('-', 1).str[0]\n",
    "loan_data['last_pymnt_d_year'] = loan_data.last_pymnt_d.str.split('-', 1).str[1].apply(lambda x: '20'+x)"
   ]
  },
  {
   "cell_type": "code",
   "execution_count": 34,
   "id": "5fd447ed",
   "metadata": {},
   "outputs": [],
   "source": [
    "# segregate last_credit_pull_d into last_credit_pull_d_month & last_credit_pull_d_year\n",
    "loan_data['last_credit_pull_d_month'] = loan_data.last_credit_pull_d.str.split('-', 1).str[0]\n",
    "loan_data['last_credit_pull_d_year'] = loan_data.last_credit_pull_d.str.split('-', 1).str[1].apply(lambda x: '20'+x)"
   ]
  },
  {
   "cell_type": "code",
   "execution_count": 35,
   "id": "fea1da40",
   "metadata": {},
   "outputs": [],
   "source": [
    "# cast pub_rec_bankruptcies into int32\n",
    "loan_data.pub_rec_bankruptcies = loan_data.pub_rec_bankruptcies.astype('int32')"
   ]
  },
  {
   "cell_type": "code",
   "execution_count": 36,
   "id": "599865b4",
   "metadata": {
    "scrolled": true
   },
   "outputs": [],
   "source": [
    "# cast tax_liens into int32\n",
    "loan_data.tax_liens = loan_data.tax_liens.astype('int32')"
   ]
  },
  {
   "cell_type": "code",
   "execution_count": 37,
   "id": "853eb781",
   "metadata": {
    "scrolled": true
   },
   "outputs": [
    {
     "data": {
      "text/plain": [
       "(34595, 62)"
      ]
     },
     "execution_count": 37,
     "metadata": {},
     "output_type": "execute_result"
    }
   ],
   "source": [
    "# getting the current shape of the loan data set\n",
    "loan_data.shape"
   ]
  },
  {
   "cell_type": "markdown",
   "id": "4974f51a",
   "metadata": {},
   "source": [
    "With the above data type discrepancy correction, we have done most of the required Data Handling and Cleaning on Loan Data Set, after the correction loan data set contains __34595 records__ and __62 columns__"
   ]
  },
  {
   "cell_type": "code",
   "execution_count": 38,
   "id": "cc9a0785",
   "metadata": {},
   "outputs": [
    {
     "name": "stdout",
     "output_type": "stream",
     "text": [
      "<class 'pandas.core.frame.DataFrame'>\n",
      "Int64Index: 34595 entries, 1 to 39002\n",
      "Data columns (total 62 columns):\n",
      " #   Column                      Non-Null Count  Dtype  \n",
      "---  ------                      --------------  -----  \n",
      " 0   id                          34595 non-null  int64  \n",
      " 1   member_id                   34595 non-null  int64  \n",
      " 2   loan_amnt                   34595 non-null  float64\n",
      " 3   funded_amnt                 34595 non-null  float64\n",
      " 4   funded_amnt_inv             34595 non-null  float64\n",
      " 5   term                        34595 non-null  int32  \n",
      " 6   int_rate                    34595 non-null  float64\n",
      " 7   installment                 34595 non-null  float64\n",
      " 8   grade                       34595 non-null  object \n",
      " 9   sub_grade                   34595 non-null  object \n",
      " 10  emp_title                   34595 non-null  object \n",
      " 11  emp_length                  34595 non-null  int64  \n",
      " 12  home_ownership              34595 non-null  object \n",
      " 13  annual_inc                  34595 non-null  float64\n",
      " 14  verification_status         34595 non-null  object \n",
      " 15  issue_d                     34595 non-null  object \n",
      " 16  loan_status                 34595 non-null  object \n",
      " 17  pymnt_plan                  34595 non-null  object \n",
      " 18  url                         34595 non-null  object \n",
      " 19  purpose                     34595 non-null  object \n",
      " 20  title                       34595 non-null  object \n",
      " 21  zip_code                    34595 non-null  object \n",
      " 22  addr_state                  34595 non-null  object \n",
      " 23  dti                         34595 non-null  float64\n",
      " 24  delinq_2yrs                 34595 non-null  int64  \n",
      " 25  earliest_cr_line            34595 non-null  object \n",
      " 26  inq_last_6mths              34595 non-null  int64  \n",
      " 27  mths_since_last_delinq      34595 non-null  float64\n",
      " 28  open_acc                    34595 non-null  int64  \n",
      " 29  pub_rec                     34595 non-null  int64  \n",
      " 30  revol_bal                   34595 non-null  int64  \n",
      " 31  revol_util                  34595 non-null  float64\n",
      " 32  total_acc                   34595 non-null  int64  \n",
      " 33  initial_list_status         34595 non-null  object \n",
      " 34  out_prncp                   34595 non-null  float64\n",
      " 35  out_prncp_inv               34595 non-null  float64\n",
      " 36  total_pymnt                 34595 non-null  float64\n",
      " 37  total_pymnt_inv             34595 non-null  float64\n",
      " 38  total_rec_prncp             34595 non-null  float64\n",
      " 39  total_rec_int               34595 non-null  float64\n",
      " 40  total_rec_late_fee          34595 non-null  float64\n",
      " 41  recoveries                  34595 non-null  float64\n",
      " 42  collection_recovery_fee     34595 non-null  float64\n",
      " 43  last_pymnt_d                34595 non-null  object \n",
      " 44  last_pymnt_amnt             34595 non-null  float64\n",
      " 45  last_credit_pull_d          34595 non-null  object \n",
      " 46  collections_12_mths_ex_med  34595 non-null  float64\n",
      " 47  policy_code                 34595 non-null  int64  \n",
      " 48  application_type            34595 non-null  object \n",
      " 49  acc_now_delinq              34595 non-null  int64  \n",
      " 50  chargeoff_within_12_mths    34595 non-null  float64\n",
      " 51  delinq_amnt                 34595 non-null  int64  \n",
      " 52  pub_rec_bankruptcies        34595 non-null  int32  \n",
      " 53  tax_liens                   34595 non-null  int32  \n",
      " 54  issue_d_month               34595 non-null  object \n",
      " 55  issue_d_year                34595 non-null  int64  \n",
      " 56  earliest_cr_line_month      34595 non-null  object \n",
      " 57  earliest_cr_line_year       34595 non-null  object \n",
      " 58  last_pymnt_d_month          34595 non-null  object \n",
      " 59  last_pymnt_d_year           34595 non-null  object \n",
      " 60  last_credit_pull_d_month    34595 non-null  object \n",
      " 61  last_credit_pull_d_year     34595 non-null  object \n",
      "dtypes: float64(21), int32(3), int64(13), object(25)\n",
      "memory usage: 16.2+ MB\n"
     ]
    }
   ],
   "source": [
    "# getting data type details of current loan data set \n",
    "loan_data.info()"
   ]
  },
  {
   "cell_type": "markdown",
   "id": "a5650995",
   "metadata": {},
   "source": [
    "#### 3. Performing Sanity Checks and Outlier Analysis on Loan Data Set"
   ]
  },
  {
   "cell_type": "markdown",
   "id": "9cb21177",
   "metadata": {},
   "source": [
    "As a part of __EDA (Exploratory Data Analysis)__ process, we need to perform a sanity check on vital variables, We are going to perform the following sanity check on the loan data set. <br><br>\n",
    "&emsp;&emsp;&emsp;&emsp;-  Required to validate that __loan_status__ values contain only __'Fully paid', 'Current'__ and __'Charged-off'__<br>\n",
    "&emsp;&emsp;&emsp;&emsp;-  Required to validate that there are no __funded_amnt__ more than __loan_amnt__<br>\n",
    "&emsp;&emsp;&emsp;&emsp;-  Required to validate that there are no __funded_amnt_inv__ more than __loan_amnt__<br>\n",
    "&emsp;&emsp;&emsp;&emsp;-  Required to validate that __int_rate__ contains only values between __0%__ to __100%__ and whether __int_rate__ values are acceptable<br>\n",
    "&emsp;&emsp;&emsp;&emsp;-  Required to analyze the __annual_inc__ for detect outliers and remove them<br>"
   ]
  },
  {
   "cell_type": "code",
   "execution_count": 39,
   "id": "4a935ee7",
   "metadata": {},
   "outputs": [
    {
     "name": "stdout",
     "output_type": "stream",
     "text": [
      "['Charged Off' 'Fully Paid' 'Current']\n"
     ]
    }
   ],
   "source": [
    "# printing the unique loan_status values\n",
    "print(loan_data.loan_status.unique())"
   ]
  },
  {
   "cell_type": "markdown",
   "id": "5bbe3f02",
   "metadata": {},
   "source": [
    "According to the above analysis, we can ensure that __loan_status__ column only contains values __'Fully paid'__, __'Current'__ and __'Charged-off'__"
   ]
  },
  {
   "cell_type": "code",
   "execution_count": 40,
   "id": "90a7c216",
   "metadata": {},
   "outputs": [
    {
     "data": {
      "text/plain": [
       "0"
      ]
     },
     "execution_count": 40,
     "metadata": {},
     "output_type": "execute_result"
    }
   ],
   "source": [
    "# checking for the records funded_amnt is more than loan_amnt \n",
    "loan_data[loan_data.loan_amnt<loan_data.funded_amnt].shape[0]"
   ]
  },
  {
   "cell_type": "markdown",
   "id": "83d05e2f",
   "metadata": {},
   "source": [
    "According to the above analysis, we can ensure that there are no records with __funded_amnt__ more than __loan_amnt__"
   ]
  },
  {
   "cell_type": "code",
   "execution_count": 41,
   "id": "9447508c",
   "metadata": {},
   "outputs": [
    {
     "data": {
      "text/plain": [
       "0"
      ]
     },
     "execution_count": 41,
     "metadata": {},
     "output_type": "execute_result"
    }
   ],
   "source": [
    "# checking for the records funded_amnt_inv is more than loan_amnt \n",
    "loan_data[loan_data.loan_amnt<loan_data.funded_amnt_inv].shape[0]"
   ]
  },
  {
   "cell_type": "markdown",
   "id": "1f430fa0",
   "metadata": {},
   "source": [
    "According to the above analysis, we can ensure that there are no records with __funded_amnt_inv__ more than __loan_amnt__"
   ]
  },
  {
   "cell_type": "code",
   "execution_count": 42,
   "id": "d281cfb5",
   "metadata": {},
   "outputs": [
    {
     "data": {
      "text/plain": [
       "count    34595.000000\n",
       "mean        11.991620\n",
       "std          3.742412\n",
       "min          5.420000\n",
       "25%          8.940000\n",
       "50%         11.830000\n",
       "75%         14.540000\n",
       "max         24.400000\n",
       "Name: int_rate, dtype: float64"
      ]
     },
     "execution_count": 42,
     "metadata": {},
     "output_type": "execute_result"
    }
   ],
   "source": [
    "# analyzing the int_rate values\n",
    "loan_data.int_rate.describe()"
   ]
  },
  {
   "cell_type": "markdown",
   "id": "4d7bdc3e",
   "metadata": {},
   "source": [
    "According to the above analysis, the minimum  __int_rate__ is __5.42%__ and the maximum __int_rate__ is __24.40%__ which is an acceptable spread for __int_rate__, hence we can ensure __int_rate__ values are accurate"
   ]
  },
  {
   "cell_type": "code",
   "execution_count": 43,
   "id": "af9fb9cc",
   "metadata": {},
   "outputs": [
    {
     "data": {
      "text/plain": [
       "<AxesSubplot:ylabel='annual_inc'>"
      ]
     },
     "execution_count": 43,
     "metadata": {},
     "output_type": "execute_result"
    },
    {
     "data": {
      "image/png": "[encoded data removed]",
      "text/plain": [
       "<Figure size 432x288 with 1 Axes>"
      ]
     },
     "metadata": {
      "needs_background": "light"
     },
     "output_type": "display_data"
    }
   ],
   "source": [
    "# analyzing the annual_inc values\n",
    "sns.boxplot(y=loan_data.annual_inc)"
   ]
  },
  {
   "cell_type": "markdown",
   "id": "42bfcd8a",
   "metadata": {},
   "source": [
    "According to the above __annual_inc__ Box Plot, we can see there are outliers, to perform further analysis, the outliers of the annual income need to be removed since this can throw off the data, hence we need to filter the loan dataset by the interquartile range of the borrower's annual income."
   ]
  },
  {
   "cell_type": "code",
   "execution_count": 44,
   "id": "d9071860",
   "metadata": {},
   "outputs": [
    {
     "name": "stdout",
     "output_type": "stream",
     "text": [
      "Percentiles: 25th=42000.000, 75th=83400.000, IQR=41400.000\n"
     ]
    }
   ],
   "source": [
    "# calculate annual_inc interquartile range\n",
    "q25, q75 = percentile(loan_data['annual_inc'], 25), percentile(loan_data['annual_inc'], 75)\n",
    "iqr = q75 - q25\n",
    "print('Percentiles: 25th=%.3f, 75th=%.3f, IQR=%.3f' % (q25, q75, iqr))"
   ]
  },
  {
   "cell_type": "code",
   "execution_count": 45,
   "id": "4f9d2656",
   "metadata": {},
   "outputs": [
    {
     "name": "stdout",
     "output_type": "stream",
     "text": [
      "62100.0 -20100.0 145500.0\n"
     ]
    }
   ],
   "source": [
    "#find out the outlier cutoff of annual_inc\n",
    "cutoff = iqr * 1.5\n",
    "lowerc, upperc = q25 - cutoff, q75 + cutoff\n",
    "print (cutoff,lowerc,upperc)"
   ]
  },
  {
   "cell_type": "code",
   "execution_count": 46,
   "id": "a4be0461",
   "metadata": {},
   "outputs": [],
   "source": [
    "# identify and remove outliers\n",
    "loan_data = loan_data.loc[(loan_data['annual_inc'] >= lowerc) & (loan_data['annual_inc'] <= upperc)]"
   ]
  },
  {
   "cell_type": "code",
   "execution_count": 47,
   "id": "e8906ee0",
   "metadata": {},
   "outputs": [
    {
     "data": {
      "text/plain": [
       "(33009, 62)"
      ]
     },
     "execution_count": 47,
     "metadata": {},
     "output_type": "execute_result"
    }
   ],
   "source": [
    "# getting the current shape of the loan data set\n",
    "loan_data.shape"
   ]
  },
  {
   "cell_type": "markdown",
   "id": "cd0d8e25",
   "metadata": {},
   "source": [
    "After removing the __annual_inc__ outliers there are __33009 rows__ and __62 columns__, and by performing above all vital sanity checks, we can ensure that the loan data set is ready for further analysis."
   ]
  },
  {
   "cell_type": "markdown",
   "id": "6697cb43",
   "metadata": {},
   "source": [
    "#### 4. Performing *Univariate Analysis* on loan data set"
   ]
  },
  {
   "cell_type": "markdown",
   "id": "0fd0285a",
   "metadata": {},
   "source": [
    "To get a firm understanding of the __Loan Data Set__, we're going to perform a Univariate Analysis on the following categorical and numerical variables. <br><br>\n",
    "&emsp;&emsp;&emsp;&emsp;-  __loan_status -> Loan Status__<br>\n",
    "&emsp;&emsp;&emsp;&emsp;-  __int_rate -> Interest Rate__<br>\n",
    "&emsp;&emsp;&emsp;&emsp;-  __loan_amnt -> Loan Amount__<br>\n",
    "&emsp;&emsp;&emsp;&emsp;-  __annual_inc -> Annual Income__<br>\n",
    "&emsp;&emsp;&emsp;&emsp;-  __term -> Loan Term__<br>\n",
    "&emsp;&emsp;&emsp;&emsp;-  __home_ownership -> Borrower Home Ownership__<br>\n",
    "&emsp;&emsp;&emsp;&emsp;-  __emp_length -> Employment Length__<br>\n",
    "&emsp;&emsp;&emsp;&emsp;-  __application_type -> Applicant Type__<br>\n",
    "&emsp;&emsp;&emsp;&emsp;-  __state -> Borrower State__<br>\n",
    "&emsp;&emsp;&emsp;&emsp;-  __issue_d_year -> Loan Issued Year__<br>"
   ]
  },
  {
   "cell_type": "code",
   "execution_count": 48,
   "id": "9d33b724",
   "metadata": {},
   "outputs": [],
   "source": [
    "# creating the method for plot bar chart\n",
    "def univar_bar(variable1,title,xlabel,yabel,a,b):\n",
    "        counts = loan_data[variable1].value_counts().rename_axis(variable1).reset_index(name='count')\n",
    "        sns.set(rc={'figure.figsize':(a,b)})\n",
    "\n",
    "        total = float(len(loan_data))\n",
    "        ax = sns.barplot(x=variable1, y='count', data=counts)\n",
    "        for p in ax.patches:\n",
    "            percentage = '{:.2f}%'.format(100 * p.get_height()/total)\n",
    "            x = p.get_x() + p.get_width()\n",
    "            y = p.get_height()\n",
    "            ax.annotate(percentage, (x, y),ha='center')\n",
    "        plt.title(title, fontsize=24)\n",
    "        plt.xlabel(xlabel, fontsize=16);\n",
    "        plt.ylabel(yabel, fontsize=16);\n",
    "        plt.show()"
   ]
  },
  {
   "cell_type": "code",
   "execution_count": 49,
   "id": "b224b718",
   "metadata": {},
   "outputs": [],
   "source": [
    "# creating the method for plot distplot chart\n",
    "def univar_dist(variable2,title,xlabel,yabel,bin_count,a,b):\n",
    "        sns.distplot(loan_data[variable2],bins=bin_count, kde=False)\n",
    "        sns.set(rc={'figure.figsize':(a,b)})\n",
    "        plt.title(title, fontsize=24)\n",
    "        plt.xlabel(xlabel, fontsize=16);\n",
    "        plt.ylabel(yabel, fontsize=16);\n",
    "        plt.show()"
   ]
  },
  {
   "cell_type": "markdown",
   "id": "00ee23e7",
   "metadata": {},
   "source": [
    "##### Loan Status Analysis "
   ]
  },
  {
   "cell_type": "code",
   "execution_count": 50,
   "id": "2d7d88a9",
   "metadata": {},
   "outputs": [
    {
     "data": {
      "image/png": "[encoded data removed]",
      "text/plain": [
       "<Figure size 1080x720 with 1 Axes>"
      ]
     },
     "metadata": {},
     "output_type": "display_data"
    }
   ],
   "source": [
    "# plotting the loan status including percentage\n",
    "univar_bar('loan_status', 'Loan Status Analysis','Loan Status', 'Borrower Count',15,10)"
   ]
  },
  {
   "cell_type": "markdown",
   "id": "bbd0eb27",
   "metadata": {},
   "source": [
    "According to the loan status analysis, we can conclude the following facts,<br>\n",
    "&emsp;&emsp;&emsp;&emsp;-  __83.80%__ of the borrowers __Fully Paid__ the loan<br>\n",
    "&emsp;&emsp;&emsp;&emsp;-  __13.31%__ of the borrowers __Charged Off__ (which means defaulted)<br>\n",
    "&emsp;&emsp;&emsp;&emsp;-  __2.89%__ of the borrowers are __Current__ (which means in the process of paying the installments)<br>\n"
   ]
  },
  {
   "cell_type": "markdown",
   "id": "dceca428",
   "metadata": {},
   "source": [
    "##### Interest Rate Distribution Analysis "
   ]
  },
  {
   "cell_type": "code",
   "execution_count": 51,
   "id": "4798de7d",
   "metadata": {},
   "outputs": [
    {
     "data": {
      "image/png": "[encoded data removed]",
      "text/plain": [
       "<Figure size 1080x720 with 1 Axes>"
      ]
     },
     "metadata": {},
     "output_type": "display_data"
    }
   ],
   "source": [
    "# plotting the interest rate distribution chart\n",
    "univar_dist('int_rate','Interest Rate Distribution Analysis','Interest Rate %','Borrower Count',25,15,10)"
   ]
  },
  {
   "cell_type": "markdown",
   "id": "618185b9",
   "metadata": {},
   "source": [
    "According to the interest rate distribution analysis, we can conclude the following facts,<br>\n",
    "&emsp;&emsp;&emsp;&emsp;- Most of the loans have interest rates between __10%__ to __15%__<br>\n",
    "&emsp;&emsp;&emsp;&emsp;- Number of borrowers getting reduced interest rates between __15%__ to __25%__<br>"
   ]
  },
  {
   "cell_type": "markdown",
   "id": "8a3bc2ab",
   "metadata": {},
   "source": [
    "##### Loan Amount Distribution Analysis"
   ]
  },
  {
   "cell_type": "code",
   "execution_count": 52,
   "id": "c5e884ba",
   "metadata": {},
   "outputs": [
    {
     "data": {
      "image/png": "[encoded data removed]",
      "text/plain": [
       "<Figure size 1080x720 with 1 Axes>"
      ]
     },
     "metadata": {},
     "output_type": "display_data"
    }
   ],
   "source": [
    "# plotting the loan amount distribution chart\n",
    "univar_dist('loan_amnt','Loan Amount Distribution Analysis','Loan Amount','Borrower Count',25,15,10)"
   ]
  },
  {
   "cell_type": "markdown",
   "id": "c4bccec3",
   "metadata": {},
   "source": [
    "According to the loan amount distribution analysis, we can conclude the following facts,<br>\n",
    "&emsp;&emsp;&emsp;&emsp;- Most of the loan amount falls between __5000__ to __10000__<br>"
   ]
  },
  {
   "cell_type": "markdown",
   "id": "e5a3f42b",
   "metadata": {},
   "source": [
    "##### Borrower Annual Income Distribution Analysis"
   ]
  },
  {
   "cell_type": "code",
   "execution_count": 53,
   "id": "df5390f4",
   "metadata": {
    "scrolled": false
   },
   "outputs": [
    {
     "data": {
      "image/png": "[encoded data removed]",
      "text/plain": [
       "<Figure size 1080x720 with 1 Axes>"
      ]
     },
     "metadata": {},
     "output_type": "display_data"
    }
   ],
   "source": [
    "# plotting the borrower annual income distribution chart\n",
    "univar_dist('annual_inc','Borrower Annual Income Distribution Analysis','Annual Income','Borrower Count',25,15,10)"
   ]
  },
  {
   "cell_type": "markdown",
   "id": "b34476cd",
   "metadata": {},
   "source": [
    "According to the borrower annual income distribution analysis, we can conclude the following facts,<br>\n",
    "&emsp;&emsp;&emsp;&emsp;- Most of the borrowers annual income falls between __40000__ to __60000__<br>\n",
    "&emsp;&emsp;&emsp;&emsp;- Borrower count gradually increases for annual income between __5000__ to __50000__ and decreases for annual income between __60000__ to __145000__<br>"
   ]
  },
  {
   "cell_type": "markdown",
   "id": "17e3569c",
   "metadata": {},
   "source": [
    "##### Loan Term Analysis "
   ]
  },
  {
   "cell_type": "code",
   "execution_count": 54,
   "id": "e496ebf3",
   "metadata": {},
   "outputs": [
    {
     "data": {
      "image/png": "[encoded data removed]",
      "text/plain": [
       "<Figure size 1080x720 with 1 Axes>"
      ]
     },
     "metadata": {},
     "output_type": "display_data"
    }
   ],
   "source": [
    "# plotting loan term including percentage\n",
    "univar_bar('term', 'Loan Term Analysis','Loan Term (Months)', 'Loan Count',15,10)"
   ]
  },
  {
   "cell_type": "markdown",
   "id": "c47194b0",
   "metadata": {},
   "source": [
    "According to the loan term analysis, we can conclude the following facts,<br>\n",
    "&emsp;&emsp;&emsp;&emsp;- __72.81%__ loans are termed for 36 months<br>\n",
    "&emsp;&emsp;&emsp;&emsp;- __27.19%__ loans are termed for 60 months<br>"
   ]
  },
  {
   "cell_type": "code",
   "execution_count": 55,
   "id": "2d22f58b",
   "metadata": {},
   "outputs": [
    {
     "data": {
      "image/png": "[encoded data removed]",
      "text/plain": [
       "<Figure size 1080x720 with 1 Axes>"
      ]
     },
     "metadata": {},
     "output_type": "display_data"
    }
   ],
   "source": [
    "# plotting borrower home ownership including percentage\n",
    "univar_bar('home_ownership', 'Borrower Home Ownership Analysis','Home Ownership', 'Borrower Count',15,10)"
   ]
  },
  {
   "cell_type": "markdown",
   "id": "cac48a0c",
   "metadata": {},
   "source": [
    "According to the loan status analysis, we can conclude the following facts,<br>\n",
    "&emsp;&emsp;&emsp;&emsp;-  __49.41%__ of the borrowers having __rent__ house<br>\n",
    "&emsp;&emsp;&emsp;&emsp;-  __43.12%__ of the borrowers having __mortgage__ house<br>\n",
    "&emsp;&emsp;&emsp;&emsp;-  __7.21%__ of the borrowers having __own__ house<br>"
   ]
  },
  {
   "cell_type": "code",
   "execution_count": 56,
   "id": "62b43385",
   "metadata": {
    "scrolled": false
   },
   "outputs": [
    {
     "data": {
      "image/png": "[encoded data removed]",
      "text/plain": [
       "<Figure size 1080x720 with 1 Axes>"
      ]
     },
     "metadata": {},
     "output_type": "display_data"
    }
   ],
   "source": [
    "# plotting employment length including percentage\n",
    "univar_bar('emp_length', 'Employment Length Analysis','Number of Years', 'Borrower Count',15,10)"
   ]
  },
  {
   "cell_type": "markdown",
   "id": "e2d2c622",
   "metadata": {},
   "source": [
    "According to the employment length analysis, we can conclude the following facts,<br>\n",
    "&emsp;&emsp;&emsp;&emsp;- Most of the borrowers are employed for __10 or more__ years <br>"
   ]
  },
  {
   "cell_type": "code",
   "execution_count": 57,
   "id": "14e17188",
   "metadata": {},
   "outputs": [
    {
     "data": {
      "image/png": "[encoded data removed]",
      "text/plain": [
       "<Figure size 1080x720 with 1 Axes>"
      ]
     },
     "metadata": {},
     "output_type": "display_data"
    }
   ],
   "source": [
    "# plotting application type including percentage\n",
    "univar_bar('application_type', 'Application Type Analysis','Application Type', 'Borrower Count',15,10)"
   ]
  },
  {
   "cell_type": "markdown",
   "id": "b92d519f",
   "metadata": {},
   "source": [
    "According to the application type analysis, we can conclude the following facts,<br>\n",
    "&emsp;&emsp;&emsp;&emsp;- __100%__ borrowers are __individual__ applicants<br>"
   ]
  },
  {
   "cell_type": "code",
   "execution_count": 58,
   "id": "0efbe0ba",
   "metadata": {},
   "outputs": [
    {
     "data": {
      "image/png": "[encoded data removed]",
      "text/plain": [
       "<Figure size 1440x720 with 1 Axes>"
      ]
     },
     "metadata": {},
     "output_type": "display_data"
    }
   ],
   "source": [
    "# plotting borrower state including percentage\n",
    "univar_bar('addr_state', 'Borrower State Analysis','State', 'Borrower Count',20,10)"
   ]
  },
  {
   "cell_type": "markdown",
   "id": "2e9f8ec2",
   "metadata": {},
   "source": [
    "According to the borrower state analysis, we can conclude the following facts,<br>\n",
    "&emsp;&emsp;&emsp;&emsp;- The state __CA__ has the highest number of borrowers and the state __NE__ has the least number of borrowers<br>"
   ]
  },
  {
   "cell_type": "code",
   "execution_count": 59,
   "id": "e4fc74ff",
   "metadata": {},
   "outputs": [
    {
     "data": {
      "image/png": "[encoded data removed]",
      "text/plain": [
       "<Figure size 1080x720 with 1 Axes>"
      ]
     },
     "metadata": {},
     "output_type": "display_data"
    }
   ],
   "source": [
    "# plotting loan issued year including percentage\n",
    "univar_bar('issue_d_year', 'Loan Issued Year Analysis','Year', 'Borrower Count',15,10)"
   ]
  },
  {
   "cell_type": "markdown",
   "id": "53577fe6",
   "metadata": {},
   "source": [
    "According to the loan issued year, we can conclude the following facts,<br>\n",
    "&emsp;&emsp;&emsp;&emsp;- Least number of loans issued in __2008__ which is __2.75%__ and the highest number of loans issued in __2011__ which is __55.18%__<br>\n",
    "&emsp;&emsp;&emsp;&emsp;- From __2008__ to __2011__ number of issued loans gradually getting __increased__<br>"
   ]
  },
  {
   "cell_type": "code",
   "execution_count": null,
   "id": "cf4da364",
   "metadata": {},
   "outputs": [],
   "source": []
  }
 ],
 "metadata": {
  "kernelspec": {
   "display_name": "Python 3 (ipykernel)",
   "language": "python",
   "name": "python3"
  },
  "language_info": {
   "codemirror_mode": {
    "name": "ipython",
    "version": 3
   },
   "file_extension": ".py",
   "mimetype": "text/x-python",
   "name": "python",
   "nbconvert_exporter": "python",
   "pygments_lexer": "ipython3",
   "version": "3.9.12"
  }
 },
 "nbformat": 4,
 "nbformat_minor": 5
}
