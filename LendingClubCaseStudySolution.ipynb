{
 "cells": [
  {
   "cell_type": "markdown",
   "id": "c0b2f142",
   "metadata": {},
   "source": [
    "# Study Group - Solution for Lending Club Case Study"
   ]
  },
  {
   "cell_type": "markdown",
   "id": "ae00e02d",
   "metadata": {},
   "source": [
    "### By: Edwin Mathew & Ishkhan Marzook"
   ]
  },
  {
   "cell_type": "markdown",
   "id": "a2d91519",
   "metadata": {},
   "source": [
    "### Submission Date : 10th August 2022"
   ]
  },
  {
   "cell_type": "markdown",
   "id": "2b2945ce",
   "metadata": {},
   "source": [
    "## <ins>Business Understanding/Objectives</ins>"
   ]
  },
  {
   "cell_type": "markdown",
   "id": "3ff746de",
   "metadata": {},
   "source": [
    "We got a request from an online loan marketplace specializing in Facilitating Personal Loans, business loans, and financing of medical procedures and financing of medical procedures. The company likes to do an Exploratory Credit Risk Analytics on the lending data available to them, the main objective of this task is to understand the 'risky' applicants that can cause Credit loss due to default. If the analysis can be used to identify the risky loan applicants, then such loans can be reduced thereby cutting down the amount of credit loss due to defaults.\n",
    "\n",
    "__The aim of this EDA(Exploratory Data Analysis) is to find the driving factors behind the loan default, variables that are strong indicators will be presented__"
   ]
  },
  {
   "cell_type": "markdown",
   "id": "e31f0c2d",
   "metadata": {},
   "source": [
    "## <ins>Solution</ins>"
   ]
  },
  {
   "cell_type": "markdown",
   "id": "fef81302",
   "metadata": {},
   "source": [
    "__In order to achieve the goal of this case study following steps will be followed__"
   ]
  },
  {
   "cell_type": "markdown",
   "id": "47361010",
   "metadata": {},
   "source": [
    "1\\. Loading the raw data from given loan data set file __loan.csv__"
   ]
  },
  {
   "cell_type": "markdown",
   "id": "a298db74",
   "metadata": {},
   "source": [
    "2\\. Perfoming data handling and cleaning on loan data set"
   ]
  },
  {
   "cell_type": "markdown",
   "id": "28310a25",
   "metadata": {},
   "source": [
    "3\\. Performing sanity checks and outlier analysis on loan data set"
   ]
  },
  {
   "cell_type": "markdown",
   "id": "5d335eae",
   "metadata": {},
   "source": [
    "4\\. Performing __Univariate Analysis__ on loan data set"
   ]
  },
  {
   "cell_type": "markdown",
   "id": "0c0b3123",
   "metadata": {},
   "source": [
    "5\\. Performing __Bivariate Analysis__ on loan data set"
   ]
  },
  {
   "cell_type": "code",
   "execution_count": null,
   "id": "bcf9afb3",
   "metadata": {},
   "outputs": [],
   "source": []
  }
 ],
 "metadata": {
  "kernelspec": {
   "display_name": "Python 3 (ipykernel)",
   "language": "python",
   "name": "python3"
  },
  "language_info": {
   "codemirror_mode": {
    "name": "ipython",
    "version": 3
   },
   "file_extension": ".py",
   "mimetype": "text/x-python",
   "name": "python",
   "nbconvert_exporter": "python",
   "pygments_lexer": "ipython3",
   "version": "3.9.12"
  }
 },
 "nbformat": 4,
 "nbformat_minor": 5
}
