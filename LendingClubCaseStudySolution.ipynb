{
 "cells": [
  {
   "cell_type": "markdown",
   "id": "f4780a74",
   "metadata": {},
   "source": [
    "# Study Group - Solution for Lending Club Case Study"
   ]
  },
  {
   "cell_type": "markdown",
   "id": "0bb3da9d",
   "metadata": {},
   "source": [
    "### By: Edwin Mathew & Ishkhan Marzook"
   ]
  },
  {
   "cell_type": "markdown",
   "id": "308edf0b",
   "metadata": {},
   "source": [
    "### Submission Date : 10th August 2022"
   ]
  },
  {
   "cell_type": "markdown",
   "id": "eaf78e8b",
   "metadata": {},
   "source": [
    "## <ins>Business Understanding/Objectives</ins>"
   ]
  },
  {
   "cell_type": "markdown",
   "id": "d5baa269",
   "metadata": {},
   "source": [
    "We got a request from an online loan marketplace specializing in Facilitating Personal Loans, business loans, and financing of medical procedures and financing of medical procedures. The company likes to do an Exploratory Credit Risk Analytics on the lending data available to them, the main objective of this task is to understand the 'risky' applicants that can cause Credit loss due to default. If the analysis can be used to identify the risky loan applicants, then such loans can be reduced thereby cutting down the amount of credit loss due to defaults.\n",
    "\n",
    "__The aim of this EDA(Exploratory Data Analysis) is to find the driving factors behind the loan default, variables that are strong indicators will be presented__"
   ]
  },
  {
   "cell_type": "markdown",
   "id": "bcd5f804",
   "metadata": {},
   "source": [
    "## <ins>Solution</ins>"
   ]
  },
  {
   "cell_type": "markdown",
   "id": "4eb0edcf",
   "metadata": {},
   "source": [
    "__In order to achieve the goal of this case study, following steps will be followed__"
   ]
  },
  {
   "cell_type": "markdown",
   "id": "2f6d2485",
   "metadata": {},
   "source": [
    "1\\. Loading the raw data from given loan data set file __loan.csv__"
   ]
  },
  {
   "cell_type": "markdown",
   "id": "ef4ce8b7",
   "metadata": {},
   "source": [
    "2\\. Perfoming __Data Handling and Cleaning__ on loan data set"
   ]
  },
  {
   "cell_type": "markdown",
   "id": "dc3a4817",
   "metadata": {},
   "source": [
    "3\\. Performing __Sanity Checks and Outlier Analysis__ on loan data set"
   ]
  },
  {
   "cell_type": "markdown",
   "id": "c21a3878",
   "metadata": {},
   "source": [
    "4\\. Performing __Univariate Analysis__ on loan data set"
   ]
  },
  {
   "cell_type": "markdown",
   "id": "87fd0594",
   "metadata": {},
   "source": [
    "5\\. Performing __Bivariate Analysis__ on loan data set"
   ]
  },
  {
   "cell_type": "markdown",
   "id": "1e9cd5e9",
   "metadata": {},
   "source": [
    "<ins>1. Loading the raw data from given loan data set file loan.csv</ins>"
   ]
  },
  {
   "cell_type": "code",
   "execution_count": null,
   "id": "7d0f2a4e",
   "metadata": {},
   "outputs": [],
   "source": []
  }
 ],
 "metadata": {
  "kernelspec": {
   "display_name": "Python 3 (ipykernel)",
   "language": "python",
   "name": "python3"
  },
  "language_info": {
   "codemirror_mode": {
    "name": "ipython",
    "version": 3
   },
   "file_extension": ".py",
   "mimetype": "text/x-python",
   "name": "python",
   "nbconvert_exporter": "python",
   "pygments_lexer": "ipython3",
   "version": "3.9.12"
  }
 },
 "nbformat": 4,
 "nbformat_minor": 5
}
