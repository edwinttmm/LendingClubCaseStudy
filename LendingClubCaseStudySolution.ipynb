{
 "cells": [
  {
   "cell_type": "markdown",
   "id": "fbf494bb",
   "metadata": {},
   "source": [
    "# Study Group - Solution for Lending Club Case Study"
   ]
  },
  {
   "cell_type": "markdown",
   "id": "7914852f",
   "metadata": {},
   "source": [
    "### By: Edwin Mathew & Ishkhan Marzook"
   ]
  },
  {
   "cell_type": "markdown",
   "id": "3fdcbd71",
   "metadata": {},
   "source": [
    "### Submission Date : 10th August 2022"
   ]
  },
  {
   "cell_type": "markdown",
   "id": "bbd6cef7",
   "metadata": {},
   "source": [
    "## <ins>Business Understanding/Objectives</ins>"
   ]
  },
  {
   "cell_type": "markdown",
   "id": "4c79065b",
   "metadata": {},
   "source": [
    "We got a request from an online loan marketplace specializing in Facilitating Personal Loans, business loans, and financing of medical procedures and financing of medical procedures. The company likes to do an Exploratory Credit Risk Analytics on the lending data available to them, the main objective of this task is to understand the 'risky' applicants that can cause Credit loss due to default. If the analysis can be used to identify the risky loan applicants, then such loans can be reduced thereby cutting down the amount of credit loss due to defaults.\n",
    "\n",
    "__The aim of this EDA(Exploratory Data Analysis) is to find the driving factors behind the loan default, variables that are strong indicators will be presented__"
   ]
  },
  {
   "cell_type": "markdown",
   "id": "97424efd",
   "metadata": {},
   "source": [
    "## <ins>Solution</ins>"
   ]
  },
  {
   "cell_type": "markdown",
   "id": "2ab06eb6",
   "metadata": {},
   "source": [
    "__In order to achieve the goal of this case study, following steps will be followed__"
   ]
  },
  {
   "cell_type": "markdown",
   "id": "826d022c",
   "metadata": {},
   "source": [
    "1\\. Loading the raw data from given loan data set file __loan.csv__"
   ]
  },
  {
   "cell_type": "markdown",
   "id": "a620d98e",
   "metadata": {},
   "source": [
    "2\\. Perfoming __Data Handling and Cleaning__ on loan data set"
   ]
  },
  {
   "cell_type": "markdown",
   "id": "5d91d43d",
   "metadata": {},
   "source": [
    "3\\. Performing __Sanity Checks and Outlier Analysis__ on loan data set"
   ]
  },
  {
   "cell_type": "markdown",
   "id": "0a715056",
   "metadata": {},
   "source": [
    "4\\. Performing __Univariate Analysis__ on loan data set"
   ]
  },
  {
   "cell_type": "markdown",
   "id": "2b711ebe",
   "metadata": {},
   "source": [
    "5\\. Performing __Bivariate Analysis__ on loan data set"
   ]
  },
  {
   "cell_type": "markdown",
   "id": "082346e6",
   "metadata": {},
   "source": [
    "<ins>__1\\. Loading the raw data from given loan data set file loan.csv__</ins>"
   ]
  },
  {
   "cell_type": "code",
   "execution_count": 7,
   "id": "1039c7d5",
   "metadata": {},
   "outputs": [],
   "source": [
    "# import the required libraries\n",
    "import numpy as np\n",
    "from numpy import percentile\n",
    "import pandas as pd\n",
    "import matplotlib.pyplot as plt\n",
    "from matplotlib.ticker import PercentFormatter\n",
    "import seaborn as sns\n",
    "import warnings\n",
    "warnings.filterwarnings('ignore')\n",
    "from datetime import datetime\n",
    "import plotly.express as px"
   ]
  },
  {
   "cell_type": "code",
   "execution_count": 8,
   "id": "02e8dabe",
   "metadata": {},
   "outputs": [],
   "source": [
    "# this is to see more columns during analysis  \n",
    "pd.options.display.max_columns = None\n",
    "# this is to see more rows during analysis \n",
    "pd.options.display.max_rows = None"
   ]
  },
  {
   "cell_type": "code",
   "execution_count": 13,
   "id": "48c2bda8",
   "metadata": {},
   "outputs": [],
   "source": [
    "# read csv file and store it in dataframe\n",
    "loandata = pd.read_csv(r'loan.csv')"
   ]
  },
  {
   "cell_type": "code",
   "execution_count": 14,
   "id": "def90a12",
   "metadata": {},
   "outputs": [
    {
     "data": {
      "text/plain": [
       "(39717, 111)"
      ]
     },
     "execution_count": 14,
     "metadata": {},
     "output_type": "execute_result"
    }
   ],
   "source": [
    "# analyze the shape of the data\n",
    "loandata.shape"
   ]
  },
  {
   "cell_type": "code",
   "execution_count": null,
   "id": "7d6fec92",
   "metadata": {},
   "outputs": [],
   "source": [
    "# "
   ]
  }
 ],
 "metadata": {
  "kernelspec": {
   "display_name": "Python 3 (ipykernel)",
   "language": "python",
   "name": "python3"
  },
  "language_info": {
   "codemirror_mode": {
    "name": "ipython",
    "version": 3
   },
   "file_extension": ".py",
   "mimetype": "text/x-python",
   "name": "python",
   "nbconvert_exporter": "python",
   "pygments_lexer": "ipython3",
   "version": "3.9.12"
  }
 },
 "nbformat": 4,
 "nbformat_minor": 5
}
